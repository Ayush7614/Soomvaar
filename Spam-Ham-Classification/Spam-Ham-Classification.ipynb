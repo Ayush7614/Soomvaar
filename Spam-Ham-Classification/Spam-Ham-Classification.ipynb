{
 "cells": [
  {
   "cell_type": "markdown",
   "id": "c5259a75-2dc9-4714-878e-a813a76ac625",
   "metadata": {},
   "source": [
    "## Spam-Ham Classification of Messages"
   ]
  },
  {
   "cell_type": "code",
   "execution_count": 1,
   "id": "f712e20c-5817-480e-8d70-458d7c7e128a",
   "metadata": {},
   "outputs": [],
   "source": [
    "import pandas as pd # Used for reading Data"
   ]
  },
  {
   "cell_type": "code",
   "execution_count": 2,
   "id": "5844ee86-d3bd-48c9-b6e7-a6611cbb7b16",
   "metadata": {},
   "outputs": [],
   "source": [
    "data = pd.read_csv(\"SMSSpamCollection\",sep=\"\\t\",names=[\"label\",\"message\"])"
   ]
  },
  {
   "cell_type": "code",
   "execution_count": 3,
   "id": "fff93f49-0347-440d-acd2-9f496f5e69d0",
   "metadata": {},
   "outputs": [
    {
     "data": {
      "text/html": [
       "<div>\n",
       "<style scoped>\n",
       "    .dataframe tbody tr th:only-of-type {\n",
       "        vertical-align: middle;\n",
       "    }\n",
       "\n",
       "    .dataframe tbody tr th {\n",
       "        vertical-align: top;\n",
       "    }\n",
       "\n",
       "    .dataframe thead th {\n",
       "        text-align: right;\n",
       "    }\n",
       "</style>\n",
       "<table border=\"1\" class=\"dataframe\">\n",
       "  <thead>\n",
       "    <tr style=\"text-align: right;\">\n",
       "      <th></th>\n",
       "      <th>label</th>\n",
       "      <th>message</th>\n",
       "    </tr>\n",
       "  </thead>\n",
       "  <tbody>\n",
       "    <tr>\n",
       "      <th>0</th>\n",
       "      <td>ham</td>\n",
       "      <td>Go until jurong point, crazy.. Available only ...</td>\n",
       "    </tr>\n",
       "    <tr>\n",
       "      <th>1</th>\n",
       "      <td>ham</td>\n",
       "      <td>Ok lar... Joking wif u oni...</td>\n",
       "    </tr>\n",
       "    <tr>\n",
       "      <th>2</th>\n",
       "      <td>spam</td>\n",
       "      <td>Free entry in 2 a wkly comp to win FA Cup fina...</td>\n",
       "    </tr>\n",
       "    <tr>\n",
       "      <th>3</th>\n",
       "      <td>ham</td>\n",
       "      <td>U dun say so early hor... U c already then say...</td>\n",
       "    </tr>\n",
       "    <tr>\n",
       "      <th>4</th>\n",
       "      <td>ham</td>\n",
       "      <td>Nah I don't think he goes to usf, he lives aro...</td>\n",
       "    </tr>\n",
       "  </tbody>\n",
       "</table>\n",
       "</div>"
      ],
      "text/plain": [
       "  label                                            message\n",
       "0   ham  Go until jurong point, crazy.. Available only ...\n",
       "1   ham                      Ok lar... Joking wif u oni...\n",
       "2  spam  Free entry in 2 a wkly comp to win FA Cup fina...\n",
       "3   ham  U dun say so early hor... U c already then say...\n",
       "4   ham  Nah I don't think he goes to usf, he lives aro..."
      ]
     },
     "execution_count": 3,
     "metadata": {},
     "output_type": "execute_result"
    }
   ],
   "source": [
    "data.head()"
   ]
  },
  {
   "cell_type": "code",
   "execution_count": 4,
   "id": "1e967f78-c314-4663-a7af-8369bc4ae4db",
   "metadata": {},
   "outputs": [],
   "source": [
    "import re # Used to generate regular expression"
   ]
  },
  {
   "cell_type": "code",
   "execution_count": 5,
   "id": "5c6ec64f-6f31-4dbb-8192-df0894879592",
   "metadata": {},
   "outputs": [],
   "source": [
    "import nltk # Used for stopwords"
   ]
  },
  {
   "cell_type": "code",
   "execution_count": 6,
   "id": "d690ef2b-068b-463c-84b1-b1e732b1a52c",
   "metadata": {},
   "outputs": [
    {
     "name": "stderr",
     "output_type": "stream",
     "text": [
      "[nltk_data] Downloading package stopwords to C:\\Users\\Anakin\n",
      "[nltk_data]     Skywalker\\AppData\\Roaming\\nltk_data...\n",
      "[nltk_data]   Package stopwords is already up-to-date!\n"
     ]
    },
    {
     "data": {
      "text/plain": [
       "True"
      ]
     },
     "execution_count": 6,
     "metadata": {},
     "output_type": "execute_result"
    }
   ],
   "source": [
    "nltk.download('stopwords') # Downloading All StopWords"
   ]
  },
  {
   "cell_type": "code",
   "execution_count": 7,
   "id": "00d90789-81bf-4d9f-9a4b-80af85e22134",
   "metadata": {},
   "outputs": [],
   "source": [
    "from nltk.corpus import stopwords #Importing Stopwords"
   ]
  },
  {
   "cell_type": "code",
   "execution_count": 8,
   "id": "e9bdc2a6-3863-4cd2-b22f-b271c8284cd8",
   "metadata": {},
   "outputs": [],
   "source": [
    "from nltk.stem.porter import PorterStemmer # Used to convert words to their root form"
   ]
  },
  {
   "cell_type": "code",
   "execution_count": 9,
   "id": "12c669da-8db8-4753-8578-4449354b0f0d",
   "metadata": {},
   "outputs": [],
   "source": [
    "ps = PorterStemmer()"
   ]
  },
  {
   "cell_type": "code",
   "execution_count": 10,
   "id": "4d7f175d-c457-4b78-8afc-4612bf15a06d",
   "metadata": {},
   "outputs": [],
   "source": [
    "corpus = []"
   ]
  },
  {
   "cell_type": "code",
   "execution_count": 11,
   "id": "ab9378cc-bade-4ce2-ad76-0ce6d6721da1",
   "metadata": {},
   "outputs": [],
   "source": [
    "for i in range(0,len(data)):\n",
    "    temp = re.sub('[^a-zA-z]',' ',data['message'][i]) # Removing all except words\n",
    "    temp = temp.lower()\n",
    "    temp = temp.split()\n",
    "    \n",
    "    temp = [ps.stem(word) for word in temp if not word in stopwords.words('english')]\n",
    "    temp = ' '.join(temp)\n",
    "    corpus.append(temp)\n",
    "    \n",
    "    \n",
    "    "
   ]
  },
  {
   "cell_type": "code",
   "execution_count": 12,
   "id": "2c76e17b-8e91-468a-97be-d8e5416273ba",
   "metadata": {},
   "outputs": [],
   "source": [
    "from sklearn.feature_extraction.text import CountVectorizer #Used to create bag of words"
   ]
  },
  {
   "cell_type": "code",
   "execution_count": 13,
   "id": "a3a59459-6404-4a9c-81b1-122e534fe747",
   "metadata": {},
   "outputs": [],
   "source": [
    "cv = CountVectorizer() # Automatically detect unique words"
   ]
  },
  {
   "cell_type": "code",
   "execution_count": 14,
   "id": "5e501301-9033-40ff-9dbc-d9173e3aec6e",
   "metadata": {},
   "outputs": [],
   "source": [
    "x = cv.fit_transform(corpus)"
   ]
  },
  {
   "cell_type": "code",
   "execution_count": 15,
   "id": "7e7229a2-1a3a-430a-b801-51da6fd541c3",
   "metadata": {},
   "outputs": [],
   "source": [
    "x = x.toarray()"
   ]
  },
  {
   "cell_type": "code",
   "execution_count": 16,
   "id": "36d161ee-a315-4e23-aaba-e3108a96948e",
   "metadata": {},
   "outputs": [
    {
     "data": {
      "text/plain": [
       "array([[0, 0, 0, ..., 0, 0, 0],\n",
       "       [0, 0, 0, ..., 0, 0, 0],\n",
       "       [0, 0, 0, ..., 0, 0, 0],\n",
       "       ...,\n",
       "       [0, 0, 0, ..., 0, 0, 0],\n",
       "       [0, 0, 0, ..., 0, 0, 0],\n",
       "       [0, 0, 0, ..., 0, 0, 0]], dtype=int64)"
      ]
     },
     "execution_count": 16,
     "metadata": {},
     "output_type": "execute_result"
    }
   ],
   "source": [
    "x"
   ]
  },
  {
   "cell_type": "code",
   "execution_count": 17,
   "id": "046b5e1a-8e4a-4004-a3dd-10d34f69d601",
   "metadata": {},
   "outputs": [
    {
     "data": {
      "text/plain": [
       "(5572, 6302)"
      ]
     },
     "execution_count": 17,
     "metadata": {},
     "output_type": "execute_result"
    }
   ],
   "source": [
    "x.shape"
   ]
  },
  {
   "cell_type": "code",
   "execution_count": 18,
   "id": "0bd8d4c8-5085-40ff-b24b-493b2f79ce3d",
   "metadata": {},
   "outputs": [],
   "source": [
    "y = pd.get_dummies(data['label']) #Making dummy variables"
   ]
  },
  {
   "cell_type": "code",
   "execution_count": 19,
   "id": "432991eb-2623-40dc-abbc-ddce976bf9fc",
   "metadata": {},
   "outputs": [
    {
     "data": {
      "text/html": [
       "<div>\n",
       "<style scoped>\n",
       "    .dataframe tbody tr th:only-of-type {\n",
       "        vertical-align: middle;\n",
       "    }\n",
       "\n",
       "    .dataframe tbody tr th {\n",
       "        vertical-align: top;\n",
       "    }\n",
       "\n",
       "    .dataframe thead th {\n",
       "        text-align: right;\n",
       "    }\n",
       "</style>\n",
       "<table border=\"1\" class=\"dataframe\">\n",
       "  <thead>\n",
       "    <tr style=\"text-align: right;\">\n",
       "      <th></th>\n",
       "      <th>ham</th>\n",
       "      <th>spam</th>\n",
       "    </tr>\n",
       "  </thead>\n",
       "  <tbody>\n",
       "    <tr>\n",
       "      <th>0</th>\n",
       "      <td>1</td>\n",
       "      <td>0</td>\n",
       "    </tr>\n",
       "    <tr>\n",
       "      <th>1</th>\n",
       "      <td>1</td>\n",
       "      <td>0</td>\n",
       "    </tr>\n",
       "    <tr>\n",
       "      <th>2</th>\n",
       "      <td>0</td>\n",
       "      <td>1</td>\n",
       "    </tr>\n",
       "    <tr>\n",
       "      <th>3</th>\n",
       "      <td>1</td>\n",
       "      <td>0</td>\n",
       "    </tr>\n",
       "    <tr>\n",
       "      <th>4</th>\n",
       "      <td>1</td>\n",
       "      <td>0</td>\n",
       "    </tr>\n",
       "    <tr>\n",
       "      <th>...</th>\n",
       "      <td>...</td>\n",
       "      <td>...</td>\n",
       "    </tr>\n",
       "    <tr>\n",
       "      <th>5567</th>\n",
       "      <td>0</td>\n",
       "      <td>1</td>\n",
       "    </tr>\n",
       "    <tr>\n",
       "      <th>5568</th>\n",
       "      <td>1</td>\n",
       "      <td>0</td>\n",
       "    </tr>\n",
       "    <tr>\n",
       "      <th>5569</th>\n",
       "      <td>1</td>\n",
       "      <td>0</td>\n",
       "    </tr>\n",
       "    <tr>\n",
       "      <th>5570</th>\n",
       "      <td>1</td>\n",
       "      <td>0</td>\n",
       "    </tr>\n",
       "    <tr>\n",
       "      <th>5571</th>\n",
       "      <td>1</td>\n",
       "      <td>0</td>\n",
       "    </tr>\n",
       "  </tbody>\n",
       "</table>\n",
       "<p>5572 rows × 2 columns</p>\n",
       "</div>"
      ],
      "text/plain": [
       "      ham  spam\n",
       "0       1     0\n",
       "1       1     0\n",
       "2       0     1\n",
       "3       1     0\n",
       "4       1     0\n",
       "...   ...   ...\n",
       "5567    0     1\n",
       "5568    1     0\n",
       "5569    1     0\n",
       "5570    1     0\n",
       "5571    1     0\n",
       "\n",
       "[5572 rows x 2 columns]"
      ]
     },
     "execution_count": 19,
     "metadata": {},
     "output_type": "execute_result"
    }
   ],
   "source": [
    "y"
   ]
  },
  {
   "cell_type": "code",
   "execution_count": 20,
   "id": "bc0ac4fb-80f2-4e17-bd71-8c9fefab846a",
   "metadata": {},
   "outputs": [],
   "source": [
    "y = y.iloc[:,1].values"
   ]
  },
  {
   "cell_type": "code",
   "execution_count": 21,
   "id": "87c8f461-201d-4f62-b8b6-992f90d0167b",
   "metadata": {},
   "outputs": [
    {
     "data": {
      "text/plain": [
       "(5572,)"
      ]
     },
     "execution_count": 21,
     "metadata": {},
     "output_type": "execute_result"
    }
   ],
   "source": [
    "y.shape"
   ]
  },
  {
   "cell_type": "code",
   "execution_count": 22,
   "id": "943a437b-abeb-4284-95f3-2b2ec2bdca48",
   "metadata": {},
   "outputs": [
    {
     "data": {
      "text/plain": [
       "array([0, 0, 1, ..., 0, 0, 0], dtype=uint8)"
      ]
     },
     "execution_count": 22,
     "metadata": {},
     "output_type": "execute_result"
    }
   ],
   "source": [
    "y # Created Y output variable where 0 means ham and 1 means spam"
   ]
  },
  {
   "cell_type": "code",
   "execution_count": 23,
   "id": "81e95c1e-f041-422e-aa7b-2fc782dfc4d8",
   "metadata": {},
   "outputs": [],
   "source": [
    "from sklearn.model_selection import train_test_split"
   ]
  },
  {
   "cell_type": "code",
   "execution_count": 24,
   "id": "add6a6b5-9607-4e65-9fd8-52527331e482",
   "metadata": {},
   "outputs": [],
   "source": [
    "from sklearn.metrics import confusion_matrix\n",
    "from sklearn.naive_bayes import MultinomialNB"
   ]
  },
  {
   "cell_type": "code",
   "execution_count": 25,
   "id": "d0cbf4e9-1284-4a19-b344-d525e8c04144",
   "metadata": {},
   "outputs": [
    {
     "name": "stdout",
     "output_type": "stream",
     "text": [
      "0.978494623655914 Split is  0.1\n",
      "0.9847533632286996 Split is  0.2\n",
      "0.9760765550239234 Split is  0.30000000000000004\n",
      "0.9775684163301929 Split is  0.4\n",
      "0.9727207465900933 Split is  0.5\n"
     ]
    }
   ],
   "source": [
    "acclist = []\n",
    "for j in range(1,6):\n",
    "    train_x, test_x, train_y, test_y = train_test_split(x, y, test_size =j*0.1 , random_state = 20+j)\n",
    "    model = MultinomialNB()\n",
    "    model.fit(train_x, train_y)\n",
    "    k = model.score(test_x, test_y)\n",
    "    acclist.append(k)\n",
    "    print(k , \"Split is \",0.1*j)"
   ]
  },
  {
   "cell_type": "raw",
   "id": "85116854-0d00-42bf-b0ca-73edeae3a23f",
   "metadata": {},
   "source": [
    "Results for testing for Accuracy vs Split"
   ]
  },
  {
   "cell_type": "code",
   "execution_count": 26,
   "id": "09bcf7d0-0127-438d-85c1-2ecdcee694f2",
   "metadata": {},
   "outputs": [],
   "source": [
    "import matplotlib.pyplot as plt"
   ]
  },
  {
   "cell_type": "code",
   "execution_count": 27,
   "id": "a6080e5d-ce4e-4926-b90b-e8cf3aeb05bb",
   "metadata": {},
   "outputs": [
    {
     "data": {
      "text/plain": [
       "[0.978494623655914,\n",
       " 0.9847533632286996,\n",
       " 0.9760765550239234,\n",
       " 0.9775684163301929,\n",
       " 0.9727207465900933]"
      ]
     },
     "execution_count": 27,
     "metadata": {},
     "output_type": "execute_result"
    }
   ],
   "source": [
    "acclist"
   ]
  },
  {
   "cell_type": "code",
   "execution_count": 28,
   "id": "946a07e2-345a-44ff-8600-5ccfe52dce4e",
   "metadata": {},
   "outputs": [],
   "source": [
    "z = []\n",
    "for j in range(1,6,1):\n",
    "    z.append(j*0.1)"
   ]
  },
  {
   "cell_type": "code",
   "execution_count": 29,
   "id": "544e1807-8b49-44ef-90ad-5a187012463e",
   "metadata": {},
   "outputs": [
    {
     "data": {
      "image/png": "[encoded data removed]",
      "text/plain": [
       "<Figure size 432x288 with 1 Axes>"
      ]
     },
     "metadata": {
      "needs_background": "light"
     },
     "output_type": "display_data"
    }
   ],
   "source": [
    "\n",
    "plt.scatter(z,acclist)\n",
    "plt.xlabel(\" Different Train-Test-Split Chosen\")\n",
    "plt.ylabel(\"Accuracies obtained for given Train-Test-SPlit\")\n",
    "plt.title(\"Accuracy vs Train-Test-Split\")\n",
    "plt.show()"
   ]
  },
  {
   "cell_type": "code",
   "execution_count": 30,
   "id": "b186f13c-8bf4-4875-9446-253944e4f748",
   "metadata": {},
   "outputs": [
    {
     "name": "stdout",
     "output_type": "stream",
     "text": [
      "[[944  14]\n",
      " [  7 150]]\n"
     ]
    }
   ],
   "source": [
    "from sklearn.metrics import confusion_matrix\n",
    "train_x, test_x, train_y, test_y = train_test_split(x, y, test_size =2*0.1 , random_state = 20+j)\n",
    "model = MultinomialNB()\n",
    "model.fit(train_x, train_y)\n",
    "cm=confusion_matrix(test_y, model.predict(test_x))\n",
    "print(cm)"
   ]
  },
  {
   "cell_type": "code",
   "execution_count": 31,
   "id": "e03b8ad4-3844-4a77-a776-cd9e148a46f3",
   "metadata": {},
   "outputs": [
    {
     "data": {
      "image/png": "[encoded data removed]",
      "text/plain": [
       "<Figure size 432x288 with 2 Axes>"
      ]
     },
     "metadata": {
      "needs_background": "light"
     },
     "output_type": "display_data"
    }
   ],
   "source": [
    "import seaborn as sns\n",
    "from sklearn.metrics import confusion_matrix\n",
    "plt.title('Confusion Matrix')\n",
    "f = sns.heatmap(cm, annot=True, fmt='d')"
   ]
  },
  {
   "cell_type": "raw",
   "id": "bbdd36d6-49ae-4e6e-a6c1-135a099957f1",
   "metadata": {},
   "source": [
    "Actual and Predicted Class0 - 944\n",
    "Actual and Predicted Class1 - 150\n",
    "Actual Class1 and Predicted Class0 - 7\n",
    "Actual Class0 and Predicted Class1 - 14"
   ]
  },
  {
   "cell_type": "code",
   "execution_count": null,
   "id": "c2998828-6d9f-4542-ad86-841a1bc0c32c",
   "metadata": {},
   "outputs": [],
   "source": []
  }
 ],
 "metadata": {
  "kernelspec": {
   "display_name": "Python 3 (ipykernel)",
   "language": "python",
   "name": "python3"
  },
  "language_info": {
   "codemirror_mode": {
    "name": "ipython",
    "version": 3
   },
   "file_extension": ".py",
   "mimetype": "text/x-python",
   "name": "python",
   "nbconvert_exporter": "python",
   "pygments_lexer": "ipython3",
   "version": "3.9.5"
  }
 },
 "nbformat": 4,
 "nbformat_minor": 5
}
