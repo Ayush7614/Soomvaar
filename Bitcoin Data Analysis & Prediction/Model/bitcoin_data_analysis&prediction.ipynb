{
  "nbformat": 4,
  "nbformat_minor": 0,
  "metadata": {
    "colab": {
      "name": "bitcoin_data_analysis&prediction.ipynb",
      "provenance": [],
      "collapsed_sections": []
    },
    "kernelspec": {
      "name": "python3",
      "display_name": "Python 3"
    },
    "language_info": {
      "name": "python"
    }
  },
  "cells": [
    {
      "cell_type": "markdown",
      "metadata": {
        "id": "zGYkB6uYSyXL"
      },
      "source": [
        "# **Bitcoin Data Analysis &  Prediction.**\n",
        "\n",
        "-  Bitcoin is a decentralized digital currency, without a central bank or single administrator, that can be sent from user to user on the peer-to-peer bitcoin network without the need for intermediaries.\n",
        "-  Bitcoin uses peer-to-peer technology to operate with no central authority or banks; managing transactions and the issuing of bitcoins is carried out collectively by the network.\n",
        "-   Bitcoin is open-source; its design is public, nobody owns or controls Bitcoin and everyone can take part. "
      ]
    },
    {
      "cell_type": "markdown",
      "metadata": {
        "id": "JHdCed_s6EWp"
      },
      "source": [
        "### Steps being followed are:\n",
        "-  Step 1: Data Preprocessing & Exploration.\n",
        "-  Step 2: Data Visualization.\n",
        "-  Step 3: Data Training & Model Creation.\n",
        "-  Step 4: Performance Evaluation.\n",
        "\n",
        "We will firstly preprocess & explore the data that we have and check for any null or missing values. If found then we'll clean tha data.\n",
        "\n",
        "Then visualize it for better understanding and draw insights from it.\n",
        "\n",
        "Then we'll proceed by data training i.e. spliting data into training and testing data.Then train our model by providing training data and once the model will be trained, we will perform prediction for the test data.\n",
        "\n",
        "At last, we will evaluate the performance of these algorithmns by error check and accuracy check."
      ]
    },
    {
      "cell_type": "markdown",
      "metadata": {
        "id": "9ozr41AvOpuF"
      },
      "source": [
        "For the dataset being used [click here](https://www.kaggle.com/sudalairajkumar/cryptocurrencypricehistory?select=coin_Bitcoin.csv)"
      ]
    },
    {
      "cell_type": "markdown",
      "metadata": {
        "id": "D5bH3oiX6w-S"
      },
      "source": [
        "### **Step 1: Data Preprocessing & Exploration.**"
      ]
    },
    {
      "cell_type": "code",
      "metadata": {
        "id": "IrRIfmtnIZXB"
      },
      "source": [
        "#import required libaries for data preprocessing.\n",
        "import pandas as pd"
      ],
      "execution_count": null,
      "outputs": []
    },
    {
      "cell_type": "code",
      "metadata": {
        "colab": {
          "base_uri": "https://localhost:8080/",
          "height": 415
        },
        "id": "LTXZto8wJAFl",
        "outputId": "10ea992d-8acf-48c8-b6d9-6ed61143b4c1"
      },
      "source": [
        "data=pd.read_csv('/content/coin_Bitcoin.csv')\n",
        "data"
      ],
      "execution_count": null,
      "outputs": [
        {
          "output_type": "execute_result",
          "data": {
            "text/html": [
              "<div>\n",
              "<style scoped>\n",
              "    .dataframe tbody tr th:only-of-type {\n",
              "        vertical-align: middle;\n",
              "    }\n",
              "\n",
              "    .dataframe tbody tr th {\n",
              "        vertical-align: top;\n",
              "    }\n",
              "\n",
              "    .dataframe thead th {\n",
              "        text-align: right;\n",
              "    }\n",
              "</style>\n",
              "<table border=\"1\" class=\"dataframe\">\n",
              "  <thead>\n",
              "    <tr style=\"text-align: right;\">\n",
              "      <th></th>\n",
              "      <th>SNo</th>\n",
              "      <th>Name</th>\n",
              "      <th>Symbol</th>\n",
              "      <th>Date</th>\n",
              "      <th>High</th>\n",
              "      <th>Low</th>\n",
              "      <th>Open</th>\n",
              "      <th>Close</th>\n",
              "      <th>Volume</th>\n",
              "      <th>Marketcap</th>\n",
              "    </tr>\n",
              "  </thead>\n",
              "  <tbody>\n",
              "    <tr>\n",
              "      <th>0</th>\n",
              "      <td>1</td>\n",
              "      <td>Bitcoin</td>\n",
              "      <td>BTC</td>\n",
              "      <td>2013-04-29 23:59:59</td>\n",
              "      <td>147.488007</td>\n",
              "      <td>134.000000</td>\n",
              "      <td>134.444000</td>\n",
              "      <td>144.539993</td>\n",
              "      <td>0.000000e+00</td>\n",
              "      <td>1.603769e+09</td>\n",
              "    </tr>\n",
              "    <tr>\n",
              "      <th>1</th>\n",
              "      <td>2</td>\n",
              "      <td>Bitcoin</td>\n",
              "      <td>BTC</td>\n",
              "      <td>2013-04-30 23:59:59</td>\n",
              "      <td>146.929993</td>\n",
              "      <td>134.050003</td>\n",
              "      <td>144.000000</td>\n",
              "      <td>139.000000</td>\n",
              "      <td>0.000000e+00</td>\n",
              "      <td>1.542813e+09</td>\n",
              "    </tr>\n",
              "    <tr>\n",
              "      <th>2</th>\n",
              "      <td>3</td>\n",
              "      <td>Bitcoin</td>\n",
              "      <td>BTC</td>\n",
              "      <td>2013-05-01 23:59:59</td>\n",
              "      <td>139.889999</td>\n",
              "      <td>107.720001</td>\n",
              "      <td>139.000000</td>\n",
              "      <td>116.989998</td>\n",
              "      <td>0.000000e+00</td>\n",
              "      <td>1.298955e+09</td>\n",
              "    </tr>\n",
              "    <tr>\n",
              "      <th>3</th>\n",
              "      <td>4</td>\n",
              "      <td>Bitcoin</td>\n",
              "      <td>BTC</td>\n",
              "      <td>2013-05-02 23:59:59</td>\n",
              "      <td>125.599998</td>\n",
              "      <td>92.281898</td>\n",
              "      <td>116.379997</td>\n",
              "      <td>105.209999</td>\n",
              "      <td>0.000000e+00</td>\n",
              "      <td>1.168517e+09</td>\n",
              "    </tr>\n",
              "    <tr>\n",
              "      <th>4</th>\n",
              "      <td>5</td>\n",
              "      <td>Bitcoin</td>\n",
              "      <td>BTC</td>\n",
              "      <td>2013-05-03 23:59:59</td>\n",
              "      <td>108.127998</td>\n",
              "      <td>79.099998</td>\n",
              "      <td>106.250000</td>\n",
              "      <td>97.750000</td>\n",
              "      <td>0.000000e+00</td>\n",
              "      <td>1.085995e+09</td>\n",
              "    </tr>\n",
              "    <tr>\n",
              "      <th>...</th>\n",
              "      <td>...</td>\n",
              "      <td>...</td>\n",
              "      <td>...</td>\n",
              "      <td>...</td>\n",
              "      <td>...</td>\n",
              "      <td>...</td>\n",
              "      <td>...</td>\n",
              "      <td>...</td>\n",
              "      <td>...</td>\n",
              "      <td>...</td>\n",
              "    </tr>\n",
              "    <tr>\n",
              "      <th>2986</th>\n",
              "      <td>2987</td>\n",
              "      <td>Bitcoin</td>\n",
              "      <td>BTC</td>\n",
              "      <td>2021-07-02 23:59:59</td>\n",
              "      <td>33939.588699</td>\n",
              "      <td>32770.680780</td>\n",
              "      <td>33549.600177</td>\n",
              "      <td>33897.048590</td>\n",
              "      <td>3.872897e+10</td>\n",
              "      <td>6.354508e+11</td>\n",
              "    </tr>\n",
              "    <tr>\n",
              "      <th>2987</th>\n",
              "      <td>2988</td>\n",
              "      <td>Bitcoin</td>\n",
              "      <td>BTC</td>\n",
              "      <td>2021-07-03 23:59:59</td>\n",
              "      <td>34909.259899</td>\n",
              "      <td>33402.696536</td>\n",
              "      <td>33854.421362</td>\n",
              "      <td>34668.548402</td>\n",
              "      <td>2.438396e+10</td>\n",
              "      <td>6.499397e+11</td>\n",
              "    </tr>\n",
              "    <tr>\n",
              "      <th>2988</th>\n",
              "      <td>2989</td>\n",
              "      <td>Bitcoin</td>\n",
              "      <td>BTC</td>\n",
              "      <td>2021-07-04 23:59:59</td>\n",
              "      <td>35937.567147</td>\n",
              "      <td>34396.477458</td>\n",
              "      <td>34665.564866</td>\n",
              "      <td>35287.779766</td>\n",
              "      <td>2.492431e+10</td>\n",
              "      <td>6.615748e+11</td>\n",
              "    </tr>\n",
              "    <tr>\n",
              "      <th>2989</th>\n",
              "      <td>2990</td>\n",
              "      <td>Bitcoin</td>\n",
              "      <td>BTC</td>\n",
              "      <td>2021-07-05 23:59:59</td>\n",
              "      <td>35284.344430</td>\n",
              "      <td>33213.661034</td>\n",
              "      <td>35284.344430</td>\n",
              "      <td>33746.002456</td>\n",
              "      <td>2.672155e+10</td>\n",
              "      <td>6.326962e+11</td>\n",
              "    </tr>\n",
              "    <tr>\n",
              "      <th>2990</th>\n",
              "      <td>2991</td>\n",
              "      <td>Bitcoin</td>\n",
              "      <td>BTC</td>\n",
              "      <td>2021-07-06 23:59:59</td>\n",
              "      <td>35038.536363</td>\n",
              "      <td>33599.916169</td>\n",
              "      <td>33723.509655</td>\n",
              "      <td>34235.193451</td>\n",
              "      <td>2.650126e+10</td>\n",
              "      <td>6.418992e+11</td>\n",
              "    </tr>\n",
              "  </tbody>\n",
              "</table>\n",
              "<p>2991 rows × 10 columns</p>\n",
              "</div>"
            ],
            "text/plain": [
              "       SNo     Name Symbol  ...         Close        Volume     Marketcap\n",
              "0        1  Bitcoin    BTC  ...    144.539993  0.000000e+00  1.603769e+09\n",
              "1        2  Bitcoin    BTC  ...    139.000000  0.000000e+00  1.542813e+09\n",
              "2        3  Bitcoin    BTC  ...    116.989998  0.000000e+00  1.298955e+09\n",
              "3        4  Bitcoin    BTC  ...    105.209999  0.000000e+00  1.168517e+09\n",
              "4        5  Bitcoin    BTC  ...     97.750000  0.000000e+00  1.085995e+09\n",
              "...    ...      ...    ...  ...           ...           ...           ...\n",
              "2986  2987  Bitcoin    BTC  ...  33897.048590  3.872897e+10  6.354508e+11\n",
              "2987  2988  Bitcoin    BTC  ...  34668.548402  2.438396e+10  6.499397e+11\n",
              "2988  2989  Bitcoin    BTC  ...  35287.779766  2.492431e+10  6.615748e+11\n",
              "2989  2990  Bitcoin    BTC  ...  33746.002456  2.672155e+10  6.326962e+11\n",
              "2990  2991  Bitcoin    BTC  ...  34235.193451  2.650126e+10  6.418992e+11\n",
              "\n",
              "[2991 rows x 10 columns]"
            ]
          },
          "metadata": {
            "tags": []
          },
          "execution_count": 2
        }
      ]
    },
    {
      "cell_type": "code",
      "metadata": {
        "colab": {
          "base_uri": "https://localhost:8080/"
        },
        "id": "_pSqFislJX9o",
        "outputId": "a4523e8c-4641-49d2-c33d-aad554d346b8"
      },
      "source": [
        "data.columns"
      ],
      "execution_count": null,
      "outputs": [
        {
          "output_type": "execute_result",
          "data": {
            "text/plain": [
              "Index(['SNo', 'Name', 'Symbol', 'Date', 'High', 'Low', 'Open', 'Close',\n",
              "       'Volume', 'Marketcap'],\n",
              "      dtype='object')"
            ]
          },
          "metadata": {
            "tags": []
          },
          "execution_count": 3
        }
      ]
    },
    {
      "cell_type": "code",
      "metadata": {
        "colab": {
          "base_uri": "https://localhost:8080/",
          "height": 202
        },
        "id": "5e7IRE5I6-xR",
        "outputId": "1a02541f-9b79-4897-b23f-fccc3fbc0a6f"
      },
      "source": [
        "data.head()"
      ],
      "execution_count": null,
      "outputs": [
        {
          "output_type": "execute_result",
          "data": {
            "text/html": [
              "<div>\n",
              "<style scoped>\n",
              "    .dataframe tbody tr th:only-of-type {\n",
              "        vertical-align: middle;\n",
              "    }\n",
              "\n",
              "    .dataframe tbody tr th {\n",
              "        vertical-align: top;\n",
              "    }\n",
              "\n",
              "    .dataframe thead th {\n",
              "        text-align: right;\n",
              "    }\n",
              "</style>\n",
              "<table border=\"1\" class=\"dataframe\">\n",
              "  <thead>\n",
              "    <tr style=\"text-align: right;\">\n",
              "      <th></th>\n",
              "      <th>SNo</th>\n",
              "      <th>Name</th>\n",
              "      <th>Symbol</th>\n",
              "      <th>Date</th>\n",
              "      <th>High</th>\n",
              "      <th>Low</th>\n",
              "      <th>Open</th>\n",
              "      <th>Close</th>\n",
              "      <th>Volume</th>\n",
              "      <th>Marketcap</th>\n",
              "    </tr>\n",
              "  </thead>\n",
              "  <tbody>\n",
              "    <tr>\n",
              "      <th>0</th>\n",
              "      <td>1</td>\n",
              "      <td>Bitcoin</td>\n",
              "      <td>BTC</td>\n",
              "      <td>2013-04-29 23:59:59</td>\n",
              "      <td>147.488007</td>\n",
              "      <td>134.000000</td>\n",
              "      <td>134.444000</td>\n",
              "      <td>144.539993</td>\n",
              "      <td>0.0</td>\n",
              "      <td>1.603769e+09</td>\n",
              "    </tr>\n",
              "    <tr>\n",
              "      <th>1</th>\n",
              "      <td>2</td>\n",
              "      <td>Bitcoin</td>\n",
              "      <td>BTC</td>\n",
              "      <td>2013-04-30 23:59:59</td>\n",
              "      <td>146.929993</td>\n",
              "      <td>134.050003</td>\n",
              "      <td>144.000000</td>\n",
              "      <td>139.000000</td>\n",
              "      <td>0.0</td>\n",
              "      <td>1.542813e+09</td>\n",
              "    </tr>\n",
              "    <tr>\n",
              "      <th>2</th>\n",
              "      <td>3</td>\n",
              "      <td>Bitcoin</td>\n",
              "      <td>BTC</td>\n",
              "      <td>2013-05-01 23:59:59</td>\n",
              "      <td>139.889999</td>\n",
              "      <td>107.720001</td>\n",
              "      <td>139.000000</td>\n",
              "      <td>116.989998</td>\n",
              "      <td>0.0</td>\n",
              "      <td>1.298955e+09</td>\n",
              "    </tr>\n",
              "    <tr>\n",
              "      <th>3</th>\n",
              "      <td>4</td>\n",
              "      <td>Bitcoin</td>\n",
              "      <td>BTC</td>\n",
              "      <td>2013-05-02 23:59:59</td>\n",
              "      <td>125.599998</td>\n",
              "      <td>92.281898</td>\n",
              "      <td>116.379997</td>\n",
              "      <td>105.209999</td>\n",
              "      <td>0.0</td>\n",
              "      <td>1.168517e+09</td>\n",
              "    </tr>\n",
              "    <tr>\n",
              "      <th>4</th>\n",
              "      <td>5</td>\n",
              "      <td>Bitcoin</td>\n",
              "      <td>BTC</td>\n",
              "      <td>2013-05-03 23:59:59</td>\n",
              "      <td>108.127998</td>\n",
              "      <td>79.099998</td>\n",
              "      <td>106.250000</td>\n",
              "      <td>97.750000</td>\n",
              "      <td>0.0</td>\n",
              "      <td>1.085995e+09</td>\n",
              "    </tr>\n",
              "  </tbody>\n",
              "</table>\n",
              "</div>"
            ],
            "text/plain": [
              "   SNo     Name Symbol  ...       Close  Volume     Marketcap\n",
              "0    1  Bitcoin    BTC  ...  144.539993     0.0  1.603769e+09\n",
              "1    2  Bitcoin    BTC  ...  139.000000     0.0  1.542813e+09\n",
              "2    3  Bitcoin    BTC  ...  116.989998     0.0  1.298955e+09\n",
              "3    4  Bitcoin    BTC  ...  105.209999     0.0  1.168517e+09\n",
              "4    5  Bitcoin    BTC  ...   97.750000     0.0  1.085995e+09\n",
              "\n",
              "[5 rows x 10 columns]"
            ]
          },
          "metadata": {
            "tags": []
          },
          "execution_count": 4
        }
      ]
    },
    {
      "cell_type": "code",
      "metadata": {
        "colab": {
          "base_uri": "https://localhost:8080/",
          "height": 202
        },
        "id": "MAefW3oW7BC3",
        "outputId": "e5b6c6e6-752f-4a04-e128-85db3a1fec59"
      },
      "source": [
        "data.tail()"
      ],
      "execution_count": null,
      "outputs": [
        {
          "output_type": "execute_result",
          "data": {
            "text/html": [
              "<div>\n",
              "<style scoped>\n",
              "    .dataframe tbody tr th:only-of-type {\n",
              "        vertical-align: middle;\n",
              "    }\n",
              "\n",
              "    .dataframe tbody tr th {\n",
              "        vertical-align: top;\n",
              "    }\n",
              "\n",
              "    .dataframe thead th {\n",
              "        text-align: right;\n",
              "    }\n",
              "</style>\n",
              "<table border=\"1\" class=\"dataframe\">\n",
              "  <thead>\n",
              "    <tr style=\"text-align: right;\">\n",
              "      <th></th>\n",
              "      <th>SNo</th>\n",
              "      <th>Name</th>\n",
              "      <th>Symbol</th>\n",
              "      <th>Date</th>\n",
              "      <th>High</th>\n",
              "      <th>Low</th>\n",
              "      <th>Open</th>\n",
              "      <th>Close</th>\n",
              "      <th>Volume</th>\n",
              "      <th>Marketcap</th>\n",
              "    </tr>\n",
              "  </thead>\n",
              "  <tbody>\n",
              "    <tr>\n",
              "      <th>2986</th>\n",
              "      <td>2987</td>\n",
              "      <td>Bitcoin</td>\n",
              "      <td>BTC</td>\n",
              "      <td>2021-07-02 23:59:59</td>\n",
              "      <td>33939.588699</td>\n",
              "      <td>32770.680780</td>\n",
              "      <td>33549.600177</td>\n",
              "      <td>33897.048590</td>\n",
              "      <td>3.872897e+10</td>\n",
              "      <td>6.354508e+11</td>\n",
              "    </tr>\n",
              "    <tr>\n",
              "      <th>2987</th>\n",
              "      <td>2988</td>\n",
              "      <td>Bitcoin</td>\n",
              "      <td>BTC</td>\n",
              "      <td>2021-07-03 23:59:59</td>\n",
              "      <td>34909.259899</td>\n",
              "      <td>33402.696536</td>\n",
              "      <td>33854.421362</td>\n",
              "      <td>34668.548402</td>\n",
              "      <td>2.438396e+10</td>\n",
              "      <td>6.499397e+11</td>\n",
              "    </tr>\n",
              "    <tr>\n",
              "      <th>2988</th>\n",
              "      <td>2989</td>\n",
              "      <td>Bitcoin</td>\n",
              "      <td>BTC</td>\n",
              "      <td>2021-07-04 23:59:59</td>\n",
              "      <td>35937.567147</td>\n",
              "      <td>34396.477458</td>\n",
              "      <td>34665.564866</td>\n",
              "      <td>35287.779766</td>\n",
              "      <td>2.492431e+10</td>\n",
              "      <td>6.615748e+11</td>\n",
              "    </tr>\n",
              "    <tr>\n",
              "      <th>2989</th>\n",
              "      <td>2990</td>\n",
              "      <td>Bitcoin</td>\n",
              "      <td>BTC</td>\n",
              "      <td>2021-07-05 23:59:59</td>\n",
              "      <td>35284.344430</td>\n",
              "      <td>33213.661034</td>\n",
              "      <td>35284.344430</td>\n",
              "      <td>33746.002456</td>\n",
              "      <td>2.672155e+10</td>\n",
              "      <td>6.326962e+11</td>\n",
              "    </tr>\n",
              "    <tr>\n",
              "      <th>2990</th>\n",
              "      <td>2991</td>\n",
              "      <td>Bitcoin</td>\n",
              "      <td>BTC</td>\n",
              "      <td>2021-07-06 23:59:59</td>\n",
              "      <td>35038.536363</td>\n",
              "      <td>33599.916169</td>\n",
              "      <td>33723.509655</td>\n",
              "      <td>34235.193451</td>\n",
              "      <td>2.650126e+10</td>\n",
              "      <td>6.418992e+11</td>\n",
              "    </tr>\n",
              "  </tbody>\n",
              "</table>\n",
              "</div>"
            ],
            "text/plain": [
              "       SNo     Name Symbol  ...         Close        Volume     Marketcap\n",
              "2986  2987  Bitcoin    BTC  ...  33897.048590  3.872897e+10  6.354508e+11\n",
              "2987  2988  Bitcoin    BTC  ...  34668.548402  2.438396e+10  6.499397e+11\n",
              "2988  2989  Bitcoin    BTC  ...  35287.779766  2.492431e+10  6.615748e+11\n",
              "2989  2990  Bitcoin    BTC  ...  33746.002456  2.672155e+10  6.326962e+11\n",
              "2990  2991  Bitcoin    BTC  ...  34235.193451  2.650126e+10  6.418992e+11\n",
              "\n",
              "[5 rows x 10 columns]"
            ]
          },
          "metadata": {
            "tags": []
          },
          "execution_count": 5
        }
      ]
    },
    {
      "cell_type": "code",
      "metadata": {
        "colab": {
          "base_uri": "https://localhost:8080/"
        },
        "id": "bKs8tJMO7DfV",
        "outputId": "6590b8f6-67f5-413f-eb3f-e03fff877109"
      },
      "source": [
        "data.info()"
      ],
      "execution_count": null,
      "outputs": [
        {
          "output_type": "stream",
          "text": [
            "<class 'pandas.core.frame.DataFrame'>\n",
            "RangeIndex: 2991 entries, 0 to 2990\n",
            "Data columns (total 10 columns):\n",
            " #   Column     Non-Null Count  Dtype  \n",
            "---  ------     --------------  -----  \n",
            " 0   SNo        2991 non-null   int64  \n",
            " 1   Name       2991 non-null   object \n",
            " 2   Symbol     2991 non-null   object \n",
            " 3   Date       2991 non-null   object \n",
            " 4   High       2991 non-null   float64\n",
            " 5   Low        2991 non-null   float64\n",
            " 6   Open       2991 non-null   float64\n",
            " 7   Close      2991 non-null   float64\n",
            " 8   Volume     2991 non-null   float64\n",
            " 9   Marketcap  2991 non-null   float64\n",
            "dtypes: float64(6), int64(1), object(3)\n",
            "memory usage: 233.8+ KB\n"
          ],
          "name": "stdout"
        }
      ]
    },
    {
      "cell_type": "code",
      "metadata": {
        "colab": {
          "base_uri": "https://localhost:8080/",
          "height": 294
        },
        "id": "55PtyD-w7GlT",
        "outputId": "1807c2c6-42f2-4a78-f028-7ceafaaa9a49"
      },
      "source": [
        "data.describe()"
      ],
      "execution_count": null,
      "outputs": [
        {
          "output_type": "execute_result",
          "data": {
            "text/html": [
              "<div>\n",
              "<style scoped>\n",
              "    .dataframe tbody tr th:only-of-type {\n",
              "        vertical-align: middle;\n",
              "    }\n",
              "\n",
              "    .dataframe tbody tr th {\n",
              "        vertical-align: top;\n",
              "    }\n",
              "\n",
              "    .dataframe thead th {\n",
              "        text-align: right;\n",
              "    }\n",
              "</style>\n",
              "<table border=\"1\" class=\"dataframe\">\n",
              "  <thead>\n",
              "    <tr style=\"text-align: right;\">\n",
              "      <th></th>\n",
              "      <th>SNo</th>\n",
              "      <th>High</th>\n",
              "      <th>Low</th>\n",
              "      <th>Open</th>\n",
              "      <th>Close</th>\n",
              "      <th>Volume</th>\n",
              "      <th>Marketcap</th>\n",
              "    </tr>\n",
              "  </thead>\n",
              "  <tbody>\n",
              "    <tr>\n",
              "      <th>count</th>\n",
              "      <td>2991.000000</td>\n",
              "      <td>2991.000000</td>\n",
              "      <td>2991.000000</td>\n",
              "      <td>2991.000000</td>\n",
              "      <td>2991.000000</td>\n",
              "      <td>2.991000e+03</td>\n",
              "      <td>2.991000e+03</td>\n",
              "    </tr>\n",
              "    <tr>\n",
              "      <th>mean</th>\n",
              "      <td>1496.000000</td>\n",
              "      <td>6893.326038</td>\n",
              "      <td>6486.009539</td>\n",
              "      <td>6700.146240</td>\n",
              "      <td>6711.290443</td>\n",
              "      <td>1.090633e+10</td>\n",
              "      <td>1.208761e+11</td>\n",
              "    </tr>\n",
              "    <tr>\n",
              "      <th>std</th>\n",
              "      <td>863.571653</td>\n",
              "      <td>11642.832456</td>\n",
              "      <td>10869.032130</td>\n",
              "      <td>11288.043736</td>\n",
              "      <td>11298.141921</td>\n",
              "      <td>1.888895e+10</td>\n",
              "      <td>2.109438e+11</td>\n",
              "    </tr>\n",
              "    <tr>\n",
              "      <th>min</th>\n",
              "      <td>1.000000</td>\n",
              "      <td>74.561096</td>\n",
              "      <td>65.526001</td>\n",
              "      <td>68.504997</td>\n",
              "      <td>68.431000</td>\n",
              "      <td>0.000000e+00</td>\n",
              "      <td>7.784112e+08</td>\n",
              "    </tr>\n",
              "    <tr>\n",
              "      <th>25%</th>\n",
              "      <td>748.500000</td>\n",
              "      <td>436.179001</td>\n",
              "      <td>422.879486</td>\n",
              "      <td>430.445496</td>\n",
              "      <td>430.569489</td>\n",
              "      <td>3.036725e+07</td>\n",
              "      <td>6.305579e+09</td>\n",
              "    </tr>\n",
              "    <tr>\n",
              "      <th>50%</th>\n",
              "      <td>1496.000000</td>\n",
              "      <td>2387.610107</td>\n",
              "      <td>2178.500000</td>\n",
              "      <td>2269.889893</td>\n",
              "      <td>2286.409912</td>\n",
              "      <td>9.460360e+08</td>\n",
              "      <td>3.741503e+10</td>\n",
              "    </tr>\n",
              "    <tr>\n",
              "      <th>75%</th>\n",
              "      <td>2243.500000</td>\n",
              "      <td>8733.926948</td>\n",
              "      <td>8289.800459</td>\n",
              "      <td>8569.656494</td>\n",
              "      <td>8576.238715</td>\n",
              "      <td>1.592015e+10</td>\n",
              "      <td>1.499957e+11</td>\n",
              "    </tr>\n",
              "    <tr>\n",
              "      <th>max</th>\n",
              "      <td>2991.000000</td>\n",
              "      <td>64863.098908</td>\n",
              "      <td>62208.964366</td>\n",
              "      <td>63523.754869</td>\n",
              "      <td>63503.457930</td>\n",
              "      <td>3.509679e+11</td>\n",
              "      <td>1.186364e+12</td>\n",
              "    </tr>\n",
              "  </tbody>\n",
              "</table>\n",
              "</div>"
            ],
            "text/plain": [
              "               SNo          High  ...        Volume     Marketcap\n",
              "count  2991.000000   2991.000000  ...  2.991000e+03  2.991000e+03\n",
              "mean   1496.000000   6893.326038  ...  1.090633e+10  1.208761e+11\n",
              "std     863.571653  11642.832456  ...  1.888895e+10  2.109438e+11\n",
              "min       1.000000     74.561096  ...  0.000000e+00  7.784112e+08\n",
              "25%     748.500000    436.179001  ...  3.036725e+07  6.305579e+09\n",
              "50%    1496.000000   2387.610107  ...  9.460360e+08  3.741503e+10\n",
              "75%    2243.500000   8733.926948  ...  1.592015e+10  1.499957e+11\n",
              "max    2991.000000  64863.098908  ...  3.509679e+11  1.186364e+12\n",
              "\n",
              "[8 rows x 7 columns]"
            ]
          },
          "metadata": {
            "tags": []
          },
          "execution_count": 7
        }
      ]
    },
    {
      "cell_type": "markdown",
      "metadata": {
        "id": "JEfjbmwU7MPs"
      },
      "source": [
        "### **Step 2: Data Visualization.**"
      ]
    },
    {
      "cell_type": "code",
      "metadata": {
        "id": "B2HXuxImJGpj"
      },
      "source": [
        "import matplotlib.pyplot as plt\n",
        "%matplotlib inline"
      ],
      "execution_count": null,
      "outputs": []
    },
    {
      "cell_type": "code",
      "metadata": {
        "colab": {
          "base_uri": "https://localhost:8080/",
          "height": 629
        },
        "id": "LTbIsba5JNvM",
        "outputId": "d5b46a46-a2e8-452f-fe39-82d69eeba745"
      },
      "source": [
        "x=data['Date']\n",
        "y1=data['High']\n",
        "y2=data['Low']\n",
        "plt.figure(figsize=(14,10))\n",
        "plt.plot(x,y1,label='HIGH',color='blue')\n",
        "plt.plot(x,y2,label='LOW',color='green')\n",
        "plt.title('HIGH & LOW ',fontsize=18)\n",
        "plt.xlabel('DATE(Trend over time)',fontsize=14)\n",
        "plt.ylabel('Count',fontsize=14)\n",
        "plt.legend()\n",
        "plt.plot()\n",
        "plt.savefig('saved_figure1.jpg') "
      ],
      "execution_count": null,
      "outputs": [
        {
          "output_type": "display_data",
          "data": {
            "image/png": "[encoded data removed]",
            "text/plain": [
              "<Figure size 1008x720 with 1 Axes>"
            ]
          },
          "metadata": {
            "tags": [],
            "needs_background": "light"
          }
        }
      ]
    },
    {
      "cell_type": "code",
      "metadata": {
        "colab": {
          "base_uri": "https://localhost:8080/",
          "height": 646
        },
        "id": "7g-S7JFt7vnz",
        "outputId": "d269c1ec-f8f6-482e-ed74-0bdeb7943b54"
      },
      "source": [
        "x=data['Date']\n",
        "y2=data['Close']\n",
        "plt.figure(figsize=(14,10))\n",
        "plt.plot(x,y2,label='CLOSE',color='orange')\n",
        "plt.title('CLOSE ',fontsize=18)\n",
        "plt.xlabel('DATE(Trend over time)',fontsize=14)\n",
        "plt.ylabel('Count',fontsize=14)\n",
        "plt.legend()\n",
        "plt.plot()"
      ],
      "execution_count": null,
      "outputs": [
        {
          "output_type": "execute_result",
          "data": {
            "text/plain": [
              "[]"
            ]
          },
          "metadata": {
            "tags": []
          },
          "execution_count": 25
        },
        {
          "output_type": "display_data",
          "data": {
            "image/png": "[encoded data removed]",
            "text/plain": [
              "<Figure size 1008x720 with 1 Axes>"
            ]
          },
          "metadata": {
            "tags": [],
            "needs_background": "light"
          }
        }
      ]
    },
    {
      "cell_type": "code",
      "metadata": {
        "colab": {
          "base_uri": "https://localhost:8080/",
          "height": 646
        },
        "id": "TnGLNxAt8uL-",
        "outputId": "af83105b-5fca-4859-af44-287a9e3d1ea5"
      },
      "source": [
        "x=data['Date']\n",
        "y1=data['Open']\n",
        "plt.figure(figsize=(14,10))\n",
        "plt.plot(x,y1,label='OPEN',color='coral')\n",
        "plt.title('OPEN ',fontsize=18)\n",
        "plt.xlabel('DATE(Trend over time)',fontsize=14)\n",
        "plt.ylabel('Count',fontsize=14)\n",
        "plt.legend()\n",
        "plt.plot()"
      ],
      "execution_count": null,
      "outputs": [
        {
          "output_type": "execute_result",
          "data": {
            "text/plain": [
              "[]"
            ]
          },
          "metadata": {
            "tags": []
          },
          "execution_count": 14
        },
        {
          "output_type": "display_data",
          "data": {
            "image/png": "[encoded data removed]",
            "text/plain": [
              "<Figure size 1008x720 with 1 Axes>"
            ]
          },
          "metadata": {
            "tags": [],
            "needs_background": "light"
          }
        }
      ]
    },
    {
      "cell_type": "code",
      "metadata": {
        "colab": {
          "base_uri": "https://localhost:8080/",
          "height": 646
        },
        "id": "hnzunZUX8fZR",
        "outputId": "5f1c970d-6027-4300-b3cc-0a9fd5899668"
      },
      "source": [
        "x=data['Date']\n",
        "y1=data['Volume']\n",
        "plt.figure(figsize=(14,10))\n",
        "plt.plot(x,y1,label='OPEN',color='orchid')\n",
        "plt.title('VOLUME ',fontsize=18)\n",
        "plt.xlabel('DATE(Trend over time)',fontsize=14)\n",
        "plt.ylabel('Count',fontsize=14)\n",
        "plt.legend()\n",
        "plt.plot()"
      ],
      "execution_count": null,
      "outputs": [
        {
          "output_type": "execute_result",
          "data": {
            "text/plain": [
              "[]"
            ]
          },
          "metadata": {
            "tags": []
          },
          "execution_count": 13
        },
        {
          "output_type": "display_data",
          "data": {
            "image/png": "[encoded data removed]",
            "text/plain": [
              "<Figure size 1008x720 with 1 Axes>"
            ]
          },
          "metadata": {
            "tags": [],
            "needs_background": "light"
          }
        }
      ]
    },
    {
      "cell_type": "markdown",
      "metadata": {
        "id": "n_PPtgitLrdU"
      },
      "source": [
        "### Step 3: Data training & Model Creation.\n",
        "-  Before moving to model creation, we have to split the data into training and testing data with a specified ratio.\n",
        "-  It is always considered as a good practice to take more training data in ratio as compared to the testing data so that the model can learn effectively and perform accurately.\n",
        "-  For this we'll use train-test-split method from sklearn which splits the data into training and testing data on the basis of given ratio."
      ]
    },
    {
      "cell_type": "code",
      "metadata": {
        "colab": {
          "base_uri": "https://localhost:8080/"
        },
        "id": "Fx9qnosIKvno",
        "outputId": "66e31f1f-2394-4273-ff58-5bb7e094983d"
      },
      "source": [
        "data.columns"
      ],
      "execution_count": null,
      "outputs": [
        {
          "output_type": "execute_result",
          "data": {
            "text/plain": [
              "Index(['SNo', 'Name', 'Symbol', 'Date', 'High', 'Low', 'Open', 'Close',\n",
              "       'Volume', 'Marketcap'],\n",
              "      dtype='object')"
            ]
          },
          "metadata": {
            "tags": []
          },
          "execution_count": 16
        }
      ]
    },
    {
      "cell_type": "code",
      "metadata": {
        "id": "52RKDQBwJkEJ"
      },
      "source": [
        "# Import train_test_split from sklearn.model_selection\n",
        "from sklearn.model_selection import train_test_split\n",
        "# Here, X is the data which will have feature and y will have our target.\n",
        "x=data[['High', 'Low', 'Open', 'Close','Volume']]  \n",
        "y=data['Marketcap']"
      ],
      "execution_count": null,
      "outputs": []
    },
    {
      "cell_type": "code",
      "metadata": {
        "id": "1TlnL7ZzK-8F"
      },
      "source": [
        "# Split data into training data and testing data\n",
        "x_train, x_test, y_train, y_test = train_test_split(x, y, test_size=0.2,random_state=500) \n",
        "#Ratio used for splitting training and testing data is 8:2 respectively"
      ],
      "execution_count": null,
      "outputs": []
    },
    {
      "cell_type": "code",
      "metadata": {
        "id": "yJrIg0agLCOH"
      },
      "source": [
        "# Importing linear regression model\n",
        "from sklearn.linear_model import LinearRegression \n",
        "reg1 = LinearRegression()"
      ],
      "execution_count": null,
      "outputs": []
    },
    {
      "cell_type": "code",
      "metadata": {
        "colab": {
          "base_uri": "https://localhost:8080/"
        },
        "id": "iTCjUFqALHNa",
        "outputId": "f6b82ca8-e573-4e82-8509-b61881f6af31"
      },
      "source": [
        "# Fitting data into the model.\n",
        "reg1.fit(x_train, y_train)"
      ],
      "execution_count": null,
      "outputs": [
        {
          "output_type": "execute_result",
          "data": {
            "text/plain": [
              "LinearRegression(copy_X=True, fit_intercept=True, n_jobs=None, normalize=False)"
            ]
          },
          "metadata": {
            "tags": []
          },
          "execution_count": 20
        }
      ]
    },
    {
      "cell_type": "code",
      "metadata": {
        "id": "2rOWwl4NLKFT"
      },
      "source": [
        "# Making predictions \n",
        "pred1 = reg1.predict(x_test)"
      ],
      "execution_count": null,
      "outputs": []
    },
    {
      "cell_type": "code",
      "metadata": {
        "colab": {
          "base_uri": "https://localhost:8080/"
        },
        "id": "wUKCw21FLNCw",
        "outputId": "7eaf44cb-ee41-4a90-b3f1-5f29657365c0"
      },
      "source": [
        "pred1"
      ],
      "execution_count": null,
      "outputs": [
        {
          "output_type": "execute_result",
          "data": {
            "text/plain": [
              "array([-3.60682284e+08,  1.26845044e+11,  6.39588883e+09,  2.16347839e+09,\n",
              "        9.07388697e+11,  1.09536203e+12,  7.76770964e+10,  2.12707046e+11,\n",
              "        3.18436559e+09, -2.53425131e+09,  1.59752887e+11,  7.69762460e+09,\n",
              "        2.01578528e+11,  6.14551834e+09,  6.84088608e+10, -2.26285734e+09,\n",
              "        7.69157272e+10,  1.07045853e+12,  1.71358938e+11,  6.71176419e+09,\n",
              "        2.17736773e+11,  1.48745993e+11,  2.18748071e+10,  8.06250857e+10,\n",
              "        6.34173490e+11,  6.21721553e+11,  1.51579674e+11,  2.05821356e+11,\n",
              "        1.50079408e+11,  1.89455216e+11,  2.51673740e+09,  1.10640755e+10,\n",
              "        6.67050294e+09, -2.49611634e+09,  6.56110106e+10,  1.34587980e+11,\n",
              "        1.49238722e+11,  1.71694168e+11,  6.39081538e+09,  1.69679687e+11,\n",
              "        1.35646950e+11,  3.12319748e+10,  1.34947346e+11,  1.73148166e+09,\n",
              "        2.14201622e+11,  7.26869455e+09,  1.56168512e+11,  7.10764197e+10,\n",
              "        1.32279962e+11,  1.41646453e+11,  9.43462960e+09,  6.82586389e+09,\n",
              "        1.87942651e+11,  1.47112413e+11, -1.42241381e+08,  1.45608747e+11,\n",
              "        1.68662879e+11, -2.52130813e+09,  3.29860325e+11,  2.02163554e+11,\n",
              "        1.22421077e+10, -2.71696201e+09,  8.82039755e+08,  1.91718738e+10,\n",
              "        4.40236148e+11, -2.42301709e+09,  2.43789405e+09,  1.15757186e+11,\n",
              "        1.71717784e+11,  2.84934204e+09,  1.11462225e+12,  2.48700222e+10,\n",
              "       -2.09734491e+09, -1.99199930e+09,  9.96205823e+10, -2.88053566e+09,\n",
              "        6.03170108e+10,  7.61561673e+10,  6.91046461e+09,  1.79692816e+11,\n",
              "        1.65606698e+11,  3.28186388e+09,  5.63368121e+09,  1.00104074e+12,\n",
              "        7.51747373e+11,  1.86276809e+11,  2.20092303e+11,  1.16614964e+11,\n",
              "        6.85775486e+09,  5.36879875e+09,  4.22458651e+10, -2.30668544e+09,\n",
              "        3.08902242e+08,  4.51744570e+09,  7.68431160e+09,  1.08352619e+12,\n",
              "        7.69263489e+09,  1.66905497e+11,  5.08825361e+08,  6.80133891e+11,\n",
              "        6.14712946e+09,  3.57284279e+10, -4.38372957e+08,  1.53413421e+09,\n",
              "        8.06199600e+09,  2.02325067e+11,  1.81879561e+10, -2.36290248e+09,\n",
              "        1.53743633e+11,  5.72739010e+09, -2.17263211e+09,  2.16193899e+11,\n",
              "        2.15659418e+11,  6.19102884e+10,  1.94150949e+11,  1.36199415e+11,\n",
              "        1.02098649e+10, -2.36468634e+08,  7.99044159e+09,  7.05461277e+11,\n",
              "        4.39570582e+10,  3.34621217e+09,  3.56692392e+11,  2.51621826e+11,\n",
              "        1.09647634e+11,  3.40465825e+09,  1.15586158e+10,  2.14701414e+09,\n",
              "        2.68553502e+11,  1.98078777e+09,  5.42853305e+08,  1.60085182e+11,\n",
              "        6.39441730e+10,  3.21235582e+09,  2.45337052e+09,  3.98435430e+09,\n",
              "        1.12834284e+11, -2.57635372e+09,  4.33587117e+09,  2.89411212e+11,\n",
              "        6.78385644e+09,  3.93020109e+09,  6.23792652e+10,  1.25429360e+11,\n",
              "        1.19955001e+11,  2.48500806e+09, -2.81420004e+09,  3.59245757e+09,\n",
              "        1.32586725e+11,  1.36740082e+11,  1.68678892e+11,  4.30608882e+09,\n",
              "        4.76391506e+10,  2.44137539e+09,  1.66540037e+11,  1.32985720e+11,\n",
              "        3.70010048e+09,  9.06196310e+11, -2.13910545e+09,  1.50275847e+11,\n",
              "        1.38092395e+10,  7.45763145e+11,  2.77819808e+10,  5.35998938e+10,\n",
              "        1.72679070e+11,  1.31045059e+11,  1.29372876e+11, -2.69888862e+08,\n",
              "        8.95337518e+09,  1.17402969e+12, -1.46351228e+08,  2.15041062e+11,\n",
              "       -6.16666752e+08,  9.33201877e+09,  5.99458231e+11,  1.12649163e+11,\n",
              "       -1.15598821e+08,  6.64300861e+09,  6.93003242e+09,  4.56199768e+09,\n",
              "        1.42769341e+11,  1.34531153e+11,  1.84050876e+11,  6.16930855e+09,\n",
              "        2.44310651e+09,  1.40670727e+10,  7.10837158e+09,  3.57439106e+11,\n",
              "        1.43629284e+11,  2.18279365e+11,  1.25068421e+11,  9.07807858e+11,\n",
              "        1.14420274e+11,  6.04768079e+11, -2.22104839e+09,  1.65416044e+11,\n",
              "        7.23542757e+10, -1.89151423e+09,  6.52815443e+10,  8.68801834e+10,\n",
              "        1.10576632e+11,  1.10468822e+10,  1.04842841e+12,  1.22862136e+11,\n",
              "        1.39053533e+09, -2.26238821e+08,  6.61144144e+10,  3.81711929e+08,\n",
              "        1.00215695e+11,  2.59122887e+11, -2.16543720e+09, -2.81164426e+08,\n",
              "        1.49394422e+11,  2.86640456e+11,  6.50052444e+09,  1.63461917e+09,\n",
              "       -1.31993967e+09,  1.09366154e+12,  7.14943270e+09,  7.04777552e+09,\n",
              "        7.23203076e+10,  5.90913409e+11,  1.27997156e+10,  1.70028845e+11,\n",
              "        4.52029688e+09,  1.84787706e+11, -2.95054224e+08,  1.97818224e+11,\n",
              "        4.66663835e+09,  1.03562360e+12,  7.80053714e+09, -1.71414894e+08,\n",
              "        8.91924466e+11,  3.20412259e+09,  2.92630804e+09,  1.62552195e+10,\n",
              "        1.34034451e+11,  3.19642031e+11,  1.18576859e+11,  8.51822407e+11,\n",
              "        3.15557534e+09,  4.60644117e+10,  4.80801524e+10,  1.97670267e+11,\n",
              "       -2.45918224e+09, -2.63614595e+09,  1.07547856e+12,  1.95865968e+11,\n",
              "       -1.67545372e+08,  1.86162764e+11, -2.45418930e+09,  2.82153393e+11,\n",
              "        9.77530638e+09,  1.71932847e+10,  9.34756576e+10,  1.07222651e+12,\n",
              "        7.17697420e+09,  1.85360154e+09,  2.11737127e+09,  6.50479450e+09,\n",
              "        6.24528335e+10,  9.56164228e+10, -2.83663885e+08, -3.73925779e+08,\n",
              "        7.66000111e+09,  2.39300982e+11,  4.59114322e+09,  7.48306174e+09,\n",
              "        1.81791153e+11, -2.10752176e+09,  4.40992607e+10,  3.50168629e+07,\n",
              "        1.24309765e+11,  1.51918872e+11,  1.28482129e+11,  2.07341028e+11,\n",
              "        1.25102125e+11,  1.44590462e+10,  1.70775550e+11,  1.35256476e+11,\n",
              "        6.55870181e+09,  2.20628346e+11,  1.36251118e+11,  4.10654342e+10,\n",
              "        2.64850467e+09, -2.21901015e+09,  1.98908850e+11,  7.11572752e+10,\n",
              "        6.49082891e+09,  5.91717377e+10,  2.11463588e+11,  1.87283398e+10,\n",
              "        4.50820908e+10,  1.64310893e+11,  3.89688414e+09,  1.16513194e+11,\n",
              "        1.14332647e+10,  1.92593836e+11, -4.70097215e+08,  2.68963908e+09,\n",
              "        8.83371428e+10, -3.28423465e+08,  5.52849224e+10,  7.52612194e+09,\n",
              "        8.05208834e+10,  1.96024888e+09, -1.99729756e+09, -2.78711571e+09,\n",
              "        4.67741319e+10, -2.25981485e+09,  6.64056650e+11,  1.62397625e+11,\n",
              "        1.10585334e+12,  1.82634399e+11,  1.57232196e+11,  7.24758645e+10,\n",
              "        7.35419018e+08,  1.77846127e+11,  3.54532480e+09, -1.12929717e+09,\n",
              "        3.38394046e+11, -2.17202737e+09,  7.03570811e+09,  7.10487958e+09,\n",
              "        1.19145641e+11,  1.17827927e+11, -6.57190042e+08,  1.35699263e+10,\n",
              "        1.10308635e+11,  1.49338217e+11, -3.84908566e+08,  3.83218059e+09,\n",
              "        3.77927925e+09,  8.43150100e+08,  1.37480206e+11,  1.55608560e+11,\n",
              "        1.04024189e+12,  1.45548764e+09,  1.14431425e+10,  4.24008528e+09,\n",
              "        1.62301746e+11,  5.85358042e+08,  1.06515552e+12,  4.12391207e+09,\n",
              "        5.99156940e+09,  2.68230287e+11,  3.47930919e+11,  1.67474653e+11,\n",
              "        1.60446240e+09,  4.22100182e+10,  7.37680369e+10,  1.61434684e+11,\n",
              "        1.71794464e+11, -3.46898549e+08, -2.22941657e+08,  1.96108647e+11,\n",
              "        7.10954634e+11,  1.15173672e+10,  1.78304496e+11,  1.05751174e+11,\n",
              "        7.07734509e+09,  1.36839603e+11,  1.32671398e+11,  3.79140446e+09,\n",
              "        9.12240817e+10,  8.12776499e+08,  7.35544024e+09,  9.42638815e+10,\n",
              "        1.61108558e+11,  1.85463341e+10,  8.67716199e+08,  7.13017406e+10,\n",
              "       -2.28635057e+09,  1.60960331e+11,  4.73793960e+08,  6.34244627e+09,\n",
              "        9.14547969e+11,  4.02815754e+09, -3.60113771e+08, -3.94372147e+08,\n",
              "        4.58724925e+09,  7.09550386e+11,  3.46273719e+09,  1.50183784e+11,\n",
              "        1.07239072e+11,  6.75736537e+09,  1.16249352e+11,  4.02398625e+10,\n",
              "        7.55475486e+09,  1.56644561e+09,  4.70012962e+09,  3.55723800e+11,\n",
              "        1.25749788e+11,  1.79533942e+11,  1.93820577e+11, -2.73422954e+08,\n",
              "        6.23717084e+11,  7.50477678e+09,  4.79569234e+09,  8.13954108e+09,\n",
              "       -2.96663033e+08,  8.33426534e+09,  6.82714630e+07,  2.03767802e+11,\n",
              "        6.97401654e+09,  3.39701792e+11,  6.13241211e+09,  1.69445530e+11,\n",
              "        5.72825694e+03,  1.58269070e+11,  3.06978007e+09,  1.50906517e+10,\n",
              "       -7.64680411e+07,  1.64640083e+11, -2.99353169e+07,  7.06372922e+09,\n",
              "        3.67731591e+09,  7.34689868e+10,  1.97725074e+09,  6.53444479e+11,\n",
              "        3.20673254e+09,  6.60119564e+11,  7.88671846e+09,  1.68634832e+11,\n",
              "       -3.00639128e+08,  1.45303790e+11, -1.13359785e+08,  1.61277298e+11,\n",
              "        4.92804008e+10,  7.40971544e+10,  1.21609368e+10, -2.59367912e+07,\n",
              "        1.99230622e+11,  1.18662920e+11,  4.82961663e+09,  6.19531898e+11,\n",
              "        1.68183420e+10, -1.95297192e+09, -2.14027956e+08,  6.08004548e+10,\n",
              "        1.23001399e+11,  1.07301321e+10,  6.05056428e+10,  5.02442638e+10,\n",
              "        7.92851747e+09,  2.00198738e+11,  2.84850638e+11,  1.58859995e+09,\n",
              "        6.39004877e+10,  7.20462647e+10,  6.67383036e+09,  7.06550542e+10,\n",
              "        1.34188247e+09,  4.23195587e+10,  7.28105997e+07,  6.81609311e+09,\n",
              "       -7.64631138e+08,  1.78003166e+11,  1.61314450e+11,  1.21875573e+11,\n",
              "        1.19160011e+11,  7.21465118e+09,  1.18184501e+11,  3.64598066e+09,\n",
              "        1.17876753e+12,  8.06542581e+10,  1.80419883e+11,  2.08530187e+11,\n",
              "       -2.81719510e+09,  2.87480759e+09,  3.01652783e+09,  1.17048141e+11,\n",
              "        2.49714264e+09,  2.00096038e+11,  1.30787479e+11,  1.15348754e+11,\n",
              "        8.10519991e+09,  3.04277140e+11, -4.08133950e+08,  1.47485402e+11,\n",
              "        8.51371061e+09,  2.09103006e+11,  1.86310783e+11,  1.13078607e+11,\n",
              "        1.22626522e+10,  1.74155279e+11,  1.07715679e+10,  6.13834099e+09,\n",
              "        1.31016829e+11,  2.57942236e+11,  2.55393975e+09, -2.10007522e+09,\n",
              "        1.70268415e+11,  1.60405851e+11,  7.75389588e+09,  2.63330168e+08,\n",
              "        6.45492113e+09,  1.62283869e+11,  1.70802220e+11,  1.42783747e+11,\n",
              "        4.71964695e+10,  1.16505589e+11,  9.51692746e+10,  2.49651756e+11,\n",
              "        3.98474407e+09,  1.13562358e+11,  1.87023129e+11,  1.62326527e+11,\n",
              "        4.16831450e+10,  1.25576550e+10,  1.21308394e+11,  2.04223252e+11,\n",
              "        2.17995423e+09, -4.16912605e+08,  1.27676042e+08,  8.68792761e+09,\n",
              "        1.39984149e+10,  1.39796482e+08, -2.87885558e+08,  9.95344128e+09,\n",
              "        3.80664308e+09,  1.38830236e+10,  4.62035393e+10,  1.11005985e+11,\n",
              "        3.53904542e+11,  4.36072010e+09,  1.03970334e+12,  6.05548396e+09,\n",
              "        1.73536004e+10, -2.76547103e+09,  3.43019614e+08,  2.57662280e+09,\n",
              "        8.53995826e+09,  1.56017339e+11,  1.54830909e+11,  9.22895515e+09,\n",
              "        1.39995615e+10,  1.27739714e+11,  6.97828769e+09,  6.33280687e+10,\n",
              "        6.86910661e+09,  1.45190075e+10,  7.36605681e+10,  1.76942062e+11,\n",
              "        1.71169549e+11,  1.21720014e+11,  1.44724740e+11, -1.21874235e+08,\n",
              "        1.68360415e+11,  3.30379534e+10,  1.43671402e+11, -1.98732670e+08,\n",
              "        5.56153874e+10,  1.45703264e+10,  6.19104221e+11,  1.92389839e+11,\n",
              "        9.79391309e+09,  2.27085571e+11,  8.36549889e+11,  3.37241724e+11,\n",
              "        2.16392584e+11,  6.06576387e+09, -2.06683758e+09,  3.52160646e+11,\n",
              "        1.82963607e+11,  7.61141992e+10,  1.52459140e+09,  1.67605414e+11,\n",
              "        6.71486178e+09,  6.79834201e+09,  1.38704559e+09,  3.62688737e+11,\n",
              "        9.24143823e+10,  5.05797399e+09,  1.09639926e+12,  3.19053119e+09,\n",
              "        5.21805938e+09,  3.77750500e+10,  7.87303343e+09,  1.31316183e+11,\n",
              "        1.81036141e+11,  4.89612406e+09,  1.77512344e+11,  3.29623989e+09,\n",
              "        3.02088838e+11,  1.50116849e+11, -2.55064504e+09,  1.50485152e+08,\n",
              "        1.71412431e+11,  7.50206186e+08,  1.68072863e+11,  1.16228058e+11,\n",
              "        2.67180330e+09,  1.78310317e+11,  1.47136190e+11, -2.45799573e+09,\n",
              "        6.59378048e+11,  3.29536210e+11,  1.03599664e+10])"
            ]
          },
          "metadata": {
            "tags": []
          },
          "execution_count": 22
        }
      ]
    },
    {
      "cell_type": "markdown",
      "metadata": {
        "id": "C5JTU3sO-QGh"
      },
      "source": [
        "### **Step 4: Performance Evaluation:**"
      ]
    },
    {
      "cell_type": "code",
      "metadata": {
        "colab": {
          "base_uri": "https://localhost:8080/"
        },
        "id": "mvGoMvh_LOdb",
        "outputId": "bc43852f-6978-4421-8791-be8e2c9db082"
      },
      "source": [
        "import numpy as np\n",
        "from sklearn.metrics import mean_squared_error\n",
        "print(\"Model\\t\\t\\t          RootMeanSquareError  \\t\\t    Accuracy of the model\") \n",
        "print(\"\"\"Linear Regression       \\t\\t {:.4f} \\t \\t\\t {:.4f}\"\"\".format(  np.sqrt(mean_squared_error(y_test, pred1)), reg1.score(x_train,y_train)))"
      ],
      "execution_count": null,
      "outputs": [
        {
          "output_type": "stream",
          "text": [
            "Model\t\t\t          RootMeanSquareError  \t\t    Accuracy of the model\n",
            "Linear Regression       \t\t 5214309617.7271 \t \t\t 0.9994\n"
          ],
          "name": "stdout"
        }
      ]
    },
    {
      "cell_type": "markdown",
      "metadata": {
        "id": "QJKz0hGI-j8H"
      },
      "source": [
        "### Conclusion Drawn through analysis & prediction:\n",
        "-  HIGH of BITCOIN went up after a certain duration and we can also observe a steep in it's HIGH as well as LOW.\n",
        "-  High and low were constant.\n",
        "-  We can also observe steep in OPEN and CLOSE of BITCOIN.\n",
        "-  By using linear regression model, we got an accuracy of 99.94 % which is really a good accuracy.\n",
        "\n"
      ]
    }
  ]
}