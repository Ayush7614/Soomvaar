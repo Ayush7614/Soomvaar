{
 "cells": [
  {
   "cell_type": "markdown",
   "metadata": {},
   "source": [
    "# English Alphabet Classification using CNN approach"
   ]
  },
  {
   "cell_type": "markdown",
   "metadata": {},
   "source": [
    "### This is a continuation of the English Alphabet Classification project where we have already used a MLP model to detect the alphabet labels but it proved to be inefficient with a validation accuracy of only 47.69%."
   ]
  },
  {
   "cell_type": "markdown",
   "metadata": {},
   "source": [
    " ### So we will try to build a Convolutional Neural Network model  on the training dataset and compare its accuracy with the MLP model."
   ]
  },
  {
   "cell_type": "code",
   "execution_count": 1,
   "metadata": {},
   "outputs": [],
   "source": [
    "import os\n",
    "import numpy as np\n",
    "import cv2\n",
    "from PIL import Image\n",
    "import pandas as pd\n",
    "import matplotlib.pyplot as plt\n",
    "from sklearn.model_selection import train_test_split\n",
    "import skimage\n",
    "from skimage.transform import resize\n",
    "\n",
    "from tensorflow import keras\n",
    "from keras.models import Sequential\n",
    "from keras.layers import Conv2D, MaxPooling2D, Activation, Dense, Flatten\n",
    "from keras.layers.normalization import BatchNormalization\n",
    "from keras.utils import np_utils\n",
    "from keras.optimizers import RMSprop, Adam\n",
    "\n",
    "import tensorflow as tf\n",
    "\n",
    "from glob import glob\n",
    "from matplotlib import pyplot as plt\n",
    "import random\n",
    "import math\n",
    "import os\n",
    "import numpy as np\n",
    "from numpy.random import seed\n",
    "seed(100)\n",
    "tf.random.set_seed(101) "
   ]
  },
  {
   "cell_type": "markdown",
   "metadata": {},
   "source": [
    "### Importing dataset"
   ]
  },
  {
   "cell_type": "code",
   "execution_count": 2,
   "metadata": {},
   "outputs": [
    {
     "name": "stdout",
     "output_type": "stream",
     "text": [
      "C:\\Users\\KIIT\\Documents\\LGM-Soc contributions\\English Alphabet Classification\\Dataset\\images/\n",
      "C:\\Users\\KIIT\\Documents\\LGM-Soc contributions\\English Alphabet Classification\\Dataset\\images/a\n",
      "C:\\Users\\KIIT\\Documents\\LGM-Soc contributions\\English Alphabet Classification\\Dataset\\images/b\n",
      "C:\\Users\\KIIT\\Documents\\LGM-Soc contributions\\English Alphabet Classification\\Dataset\\images/c\n",
      "C:\\Users\\KIIT\\Documents\\LGM-Soc contributions\\English Alphabet Classification\\Dataset\\images/d\n",
      "C:\\Users\\KIIT\\Documents\\LGM-Soc contributions\\English Alphabet Classification\\Dataset\\images/e\n",
      "C:\\Users\\KIIT\\Documents\\LGM-Soc contributions\\English Alphabet Classification\\Dataset\\images/f\n",
      "C:\\Users\\KIIT\\Documents\\LGM-Soc contributions\\English Alphabet Classification\\Dataset\\images/g\n",
      "C:\\Users\\KIIT\\Documents\\LGM-Soc contributions\\English Alphabet Classification\\Dataset\\images/h\n",
      "C:\\Users\\KIIT\\Documents\\LGM-Soc contributions\\English Alphabet Classification\\Dataset\\images/i\n",
      "C:\\Users\\KIIT\\Documents\\LGM-Soc contributions\\English Alphabet Classification\\Dataset\\images/j\n",
      "C:\\Users\\KIIT\\Documents\\LGM-Soc contributions\\English Alphabet Classification\\Dataset\\images/k\n",
      "C:\\Users\\KIIT\\Documents\\LGM-Soc contributions\\English Alphabet Classification\\Dataset\\images/l\n",
      "C:\\Users\\KIIT\\Documents\\LGM-Soc contributions\\English Alphabet Classification\\Dataset\\images/m\n",
      "C:\\Users\\KIIT\\Documents\\LGM-Soc contributions\\English Alphabet Classification\\Dataset\\images/n\n",
      "C:\\Users\\KIIT\\Documents\\LGM-Soc contributions\\English Alphabet Classification\\Dataset\\images/o\n",
      "C:\\Users\\KIIT\\Documents\\LGM-Soc contributions\\English Alphabet Classification\\Dataset\\images/p\n",
      "C:\\Users\\KIIT\\Documents\\LGM-Soc contributions\\English Alphabet Classification\\Dataset\\images/q\n",
      "C:\\Users\\KIIT\\Documents\\LGM-Soc contributions\\English Alphabet Classification\\Dataset\\images/r\n",
      "C:\\Users\\KIIT\\Documents\\LGM-Soc contributions\\English Alphabet Classification\\Dataset\\images/s\n",
      "C:\\Users\\KIIT\\Documents\\LGM-Soc contributions\\English Alphabet Classification\\Dataset\\images/t\n",
      "C:\\Users\\KIIT\\Documents\\LGM-Soc contributions\\English Alphabet Classification\\Dataset\\images/u\n",
      "C:\\Users\\KIIT\\Documents\\LGM-Soc contributions\\English Alphabet Classification\\Dataset\\images/v\n",
      "C:\\Users\\KIIT\\Documents\\LGM-Soc contributions\\English Alphabet Classification\\Dataset\\images/w\n",
      "C:\\Users\\KIIT\\Documents\\LGM-Soc contributions\\English Alphabet Classification\\Dataset\\images/x\n",
      "C:\\Users\\KIIT\\Documents\\LGM-Soc contributions\\English Alphabet Classification\\Dataset\\images/y\n",
      "C:\\Users\\KIIT\\Documents\\LGM-Soc contributions\\English Alphabet Classification\\Dataset\\images/z\n"
     ]
    }
   ],
   "source": [
    "paths = r'C:\\Users\\KIIT\\Documents\\LGM-Soc contributions\\English Alphabet Classification\\Dataset\\images/'\n",
    "for dirname, _, filenames in os.walk(r'C:\\Users\\KIIT\\Documents\\LGM-Soc contributions\\English Alphabet Classification\\Dataset\\images/'):\n",
    "    print(dirname)"
   ]
  },
  {
   "cell_type": "code",
   "execution_count": 3,
   "metadata": {},
   "outputs": [
    {
     "data": {
      "text/plain": [
       "'C:\\\\Users\\\\KIIT\\\\Documents\\\\LGM-Soc contributions\\\\English Alphabet Classification\\\\Dataset\\\\images/'"
      ]
     },
     "execution_count": 3,
     "metadata": {},
     "output_type": "execute_result"
    }
   ],
   "source": [
    "paths"
   ]
  },
  {
   "cell_type": "code",
   "execution_count": 4,
   "metadata": {},
   "outputs": [
    {
     "name": "stdout",
     "output_type": "stream",
     "text": [
      "No. of categories of images in the train set =  26\n"
     ]
    }
   ],
   "source": [
    "categories = os.listdir(paths)\n",
    "print(\"No. of categories of images in the train set = \",len(categories))"
   ]
  },
  {
   "cell_type": "code",
   "execution_count": 5,
   "metadata": {},
   "outputs": [
    {
     "data": {
      "text/plain": [
       "['a',\n",
       " 'b',\n",
       " 'c',\n",
       " 'd',\n",
       " 'e',\n",
       " 'f',\n",
       " 'g',\n",
       " 'h',\n",
       " 'i',\n",
       " 'j',\n",
       " 'k',\n",
       " 'l',\n",
       " 'm',\n",
       " 'n',\n",
       " 'o',\n",
       " 'p',\n",
       " 'q',\n",
       " 'r',\n",
       " 's',\n",
       " 't',\n",
       " 'u',\n",
       " 'v',\n",
       " 'w',\n",
       " 'x',\n",
       " 'y',\n",
       " 'z']"
      ]
     },
     "execution_count": 5,
     "metadata": {},
     "output_type": "execute_result"
    }
   ],
   "source": [
    "categories"
   ]
  },
  {
   "cell_type": "markdown",
   "metadata": {},
   "source": [
    "#### Since this is a supervised learning approach to train the model we will have to label the images before giving it as input to the CNN model\n"
   ]
  },
  {
   "cell_type": "code",
   "execution_count": 6,
   "metadata": {},
   "outputs": [],
   "source": [
    "def load_img_labels(categories):\n",
    "    img_lst=[]\n",
    "    labels=[]\n",
    "    for index, category in enumerate(categories):\n",
    "        n = 0\n",
    "        for image_name in os.listdir(paths+\"/\"+category):\n",
    "            if n==100:\n",
    "                break\n",
    "                \n",
    "            #load image data into an array\n",
    "            img = cv2.imread(paths+\"/\"+category+\"/\"+image_name)\n",
    "            img = cv2.cvtColor(img, cv2.COLOR_BGR2RGB)\n",
    "            img_array = Image.fromarray(img, 'RGB')\n",
    "            \n",
    "             #resizing the image\n",
    "            resized_img = img_array.resize((200, 200))\n",
    "            \n",
    "            #converting the image array to numpy array before appending it to the list\n",
    "            img_lst.append(np.array(resized_img))\n",
    "            \n",
    "            if(index==0):\n",
    "                v_type = \"a\"\n",
    "            elif(index==1):\n",
    "                v_type = \"b\"\n",
    "            elif(index==2):\n",
    "                v_type = \"c\"\n",
    "            elif(index==3):\n",
    "                v_type = \"d\"\n",
    "            elif(index==4):\n",
    "                v_type = \"e\"\n",
    "            elif(index==5):\n",
    "                v_type = \"f\"\n",
    "            elif(index==6):\n",
    "                v_type = \"g\"\n",
    "            elif(index==7):\n",
    "                v_type = \"h\"\n",
    "            elif(index==8):\n",
    "                v_type = \"i\"\n",
    "            elif(index==9):\n",
    "                v_type = \"j\"\n",
    "            elif(index==10):\n",
    "                v_type = \"k\"\n",
    "            elif(index==11):\n",
    "                v_type = \"l\"\n",
    "            elif(index==12):\n",
    "                v_type = \"m\"\n",
    "            elif(index==13):\n",
    "                v_type = \"n\"\n",
    "            elif(index==14):\n",
    "                v_type = \"o\"\n",
    "            elif(index==15):\n",
    "                v_type = \"p\"\n",
    "            elif(index==16):\n",
    "                v_type = \"q\"\n",
    "            elif(index==17):\n",
    "                v_type = \"r\"\n",
    "            elif(index==18):\n",
    "                v_type = \"s\"\n",
    "            elif(index==19):\n",
    "                v_type = \"t\"\n",
    "            elif(index==20):\n",
    "                v_type = \"u\"\n",
    "            elif(index==21):\n",
    "                v_type = \"v\"\n",
    "            elif(index==22):\n",
    "                v_type = \"w\"\n",
    "            elif(index==23):\n",
    "                v_type = \"x\"\n",
    "            elif(index==24):\n",
    "                v_type = \"y\"\n",
    "            else:\n",
    "                v_type = \"z\"\n",
    "            \n",
    "            #appending label\n",
    "            labels.append(v_type)\n",
    "            \n",
    "            n+=1\n",
    "    return img_lst, labels"
   ]
  },
  {
   "cell_type": "code",
   "execution_count": 7,
   "metadata": {},
   "outputs": [
    {
     "name": "stdout",
     "output_type": "stream",
     "text": [
      "No. of images loaded =  2600 \n",
      "No. of labels loaded =  2600\n",
      "<class 'list'> <class 'list'>\n"
     ]
    }
   ],
   "source": [
    "images, labels = load_img_labels(categories)\n",
    "print(\"No. of images loaded = \",len(images),\"\\nNo. of labels loaded = \",len(labels))\n",
    "print(type(images),type(labels))"
   ]
  },
  {
   "cell_type": "markdown",
   "metadata": {},
   "source": [
    "#### Converting the images and labels into numpy arrays"
   ]
  },
  {
   "cell_type": "code",
   "execution_count": 8,
   "metadata": {},
   "outputs": [
    {
     "name": "stdout",
     "output_type": "stream",
     "text": [
      "Images shape =  (2600, 200, 200, 3) \n",
      "Labels shape =  (2600,)\n",
      "<class 'numpy.ndarray'> <class 'numpy.ndarray'>\n"
     ]
    }
   ],
   "source": [
    "images = np.array(images)\n",
    "labels = np.array(labels)\n",
    "\n",
    "print(\"Images shape = \",images.shape,\"\\nLabels shape = \",labels.shape)\n",
    "print(type(images),type(labels))"
   ]
  },
  {
   "cell_type": "code",
   "execution_count": 9,
   "metadata": {},
   "outputs": [
    {
     "data": {
      "image/png": "[encoded data removed]",
      "text/plain": [
       "<Figure size 1080x720 with 4 Axes>"
      ]
     },
     "metadata": {},
     "output_type": "display_data"
    }
   ],
   "source": [
    "def display_label_images(images, labels):\n",
    "    plt.figure(1 , figsize = (15 , 10))\n",
    "    n = 0 \n",
    "    for i in range(4):\n",
    "        n += 1 \n",
    "        r = np.random.randint(0 , images.shape[0] , 1)\n",
    "        \n",
    "        plt.subplot(2, 2, n)\n",
    "        plt.subplots_adjust(hspace = 0.3 , wspace = 0.1)\n",
    "        plt.imshow(images[r[0]])\n",
    "        \n",
    "        plt.title('Assigned label : {}'.format(labels[r[0]]))\n",
    "        plt.xticks([])\n",
    "        plt.yticks([])\n",
    "        \n",
    "    plt.show()\n",
    "    \n",
    "display_label_images(images, labels)"
   ]
  },
  {
   "cell_type": "markdown",
   "metadata": {},
   "source": [
    "### Performing Data Augmentation using ImageDataGenerator to import training images and augment more images"
   ]
  },
  {
   "cell_type": "code",
   "execution_count": 10,
   "metadata": {},
   "outputs": [
    {
     "name": "stdout",
     "output_type": "stream",
     "text": [
      "Found 2340 images belonging to 26 classes.\n",
      "Found 260 images belonging to 26 classes.\n"
     ]
    }
   ],
   "source": [
    "dataPath =  r'C:\\Users\\KIIT\\Documents\\LGM-Soc contributions\\English Alphabet Classification\\Dataset\\images/'\n",
    "resizeTuple = (64, 64)\n",
    "resizeDim = (64, 64, 3)\n",
    "numLabels = 26\n",
    "batchSize = 12\n",
    "\n",
    "data_generator = tf.keras.preprocessing.image.ImageDataGenerator(samplewise_center=True, \n",
    "                                    samplewise_std_normalization=True, \n",
    "                                    validation_split=0.1)\n",
    "\n",
    "train_generator = data_generator.flow_from_directory(dataPath, target_size=resizeTuple, batch_size=batchSize, shuffle=True, subset=\"training\")\n",
    "val_generator = data_generator.flow_from_directory(dataPath, target_size=resizeTuple, batch_size=batchSize, subset=\"validation\")"
   ]
  },
  {
   "cell_type": "markdown",
   "metadata": {},
   "source": [
    "## Building the CNN model"
   ]
  },
  {
   "cell_type": "code",
   "execution_count": 11,
   "metadata": {},
   "outputs": [],
   "source": [
    "from keras.models import Sequential\n",
    "from keras.layers import Conv2D, MaxPooling2D, Activation, Dense, Flatten"
   ]
  },
  {
   "cell_type": "code",
   "execution_count": 12,
   "metadata": {},
   "outputs": [
    {
     "name": "stdout",
     "output_type": "stream",
     "text": [
      "Model: \"sequential\"\n",
      "_________________________________________________________________\n",
      "Layer (type)                 Output Shape              Param #   \n",
      "=================================================================\n",
      "conv2d (Conv2D)              (None, 60, 60, 32)        2432      \n",
      "_________________________________________________________________\n",
      "activation (Activation)      (None, 60, 60, 32)        0         \n",
      "_________________________________________________________________\n",
      "max_pooling2d (MaxPooling2D) (None, 30, 30, 32)        0         \n",
      "_________________________________________________________________\n",
      "conv2d_1 (Conv2D)            (None, 28, 28, 64)        18496     \n",
      "_________________________________________________________________\n",
      "activation_1 (Activation)    (None, 28, 28, 64)        0         \n",
      "_________________________________________________________________\n",
      "max_pooling2d_1 (MaxPooling2 (None, 14, 14, 64)        0         \n",
      "_________________________________________________________________\n",
      "dropout (Dropout)            (None, 14, 14, 64)        0         \n",
      "_________________________________________________________________\n",
      "conv2d_2 (Conv2D)            (None, 12, 12, 64)        36928     \n",
      "_________________________________________________________________\n",
      "activation_2 (Activation)    (None, 12, 12, 64)        0         \n",
      "_________________________________________________________________\n",
      "max_pooling2d_2 (MaxPooling2 (None, 6, 6, 64)          0         \n",
      "_________________________________________________________________\n",
      "flatten (Flatten)            (None, 2304)              0         \n",
      "_________________________________________________________________\n",
      "dense (Dense)                (None, 128)               295040    \n",
      "_________________________________________________________________\n",
      "dense_1 (Dense)              (None, 26)                3354      \n",
      "=================================================================\n",
      "Total params: 356,250\n",
      "Trainable params: 356,250\n",
      "Non-trainable params: 0\n",
      "_________________________________________________________________\n"
     ]
    }
   ],
   "source": [
    "CNN_model = Sequential([\n",
    "    Conv2D(32, (5, 5), input_shape=(64, 64, 3)),\n",
    "    Activation('relu'),\n",
    "    MaxPooling2D((2, 2)),\n",
    "    \n",
    "    Conv2D(64, (3, 3)),\n",
    "    Activation('relu'),\n",
    "    MaxPooling2D((2, 2)),\n",
    "    \n",
    "    tf.keras.layers.Dropout(rate=0.3),\n",
    "    \n",
    "    Conv2D(64, (3, 3)),\n",
    "    Activation('relu'),\n",
    "    MaxPooling2D((2, 2)),\n",
    "    \n",
    "    Flatten(),\n",
    "    Dense(128, activation='relu'),\n",
    "    Dense(26, activation='softmax')\n",
    "])\n",
    "\n",
    "CNN_model.summary()"
   ]
  },
  {
   "cell_type": "code",
   "execution_count": 13,
   "metadata": {},
   "outputs": [],
   "source": [
    "from tensorflow.keras.callbacks import EarlyStopping\n",
    "early_stop = EarlyStopping(monitor='val_loss',patience=2)"
   ]
  },
  {
   "cell_type": "code",
   "execution_count": 14,
   "metadata": {},
   "outputs": [],
   "source": [
    "CNN_model.compile(\n",
    "    optimizer='adam',\n",
    "    loss='categorical_crossentropy',\n",
    "    metrics=['accuracy']\n",
    ")"
   ]
  },
  {
   "cell_type": "code",
   "execution_count": 15,
   "metadata": {},
   "outputs": [
    {
     "name": "stdout",
     "output_type": "stream",
     "text": [
      "Epoch 1/50\n",
      "195/195 - 11s - loss: 2.1924 - accuracy: 0.3564 - val_loss: 1.3655 - val_accuracy: 0.5692\n",
      "Epoch 2/50\n",
      "195/195 - 10s - loss: 0.8525 - accuracy: 0.7325 - val_loss: 0.8960 - val_accuracy: 0.7385\n",
      "Epoch 3/50\n",
      "195/195 - 10s - loss: 0.4102 - accuracy: 0.8679 - val_loss: 0.7537 - val_accuracy: 0.7846\n",
      "Epoch 4/50\n",
      "195/195 - 10s - loss: 0.2557 - accuracy: 0.9124 - val_loss: 0.6484 - val_accuracy: 0.8000\n",
      "Epoch 5/50\n",
      "195/195 - 10s - loss: 0.1949 - accuracy: 0.9368 - val_loss: 0.4836 - val_accuracy: 0.9038\n",
      "Epoch 6/50\n",
      "195/195 - 10s - loss: 0.1449 - accuracy: 0.9517 - val_loss: 0.4252 - val_accuracy: 0.8962\n",
      "Epoch 7/50\n",
      "195/195 - 12s - loss: 0.1273 - accuracy: 0.9556 - val_loss: 0.5166 - val_accuracy: 0.8500\n",
      "Epoch 8/50\n",
      "195/195 - 11s - loss: 0.1124 - accuracy: 0.9667 - val_loss: 0.4848 - val_accuracy: 0.8923\n",
      "Epoch 9/50\n",
      "195/195 - 11s - loss: 0.1061 - accuracy: 0.9705 - val_loss: 0.5335 - val_accuracy: 0.9000\n",
      "Epoch 10/50\n",
      "195/195 - 11s - loss: 0.0913 - accuracy: 0.9697 - val_loss: 0.5011 - val_accuracy: 0.9038\n",
      "Epoch 11/50\n",
      "195/195 - 10s - loss: 0.0650 - accuracy: 0.9803 - val_loss: 0.4995 - val_accuracy: 0.8846\n",
      "Epoch 12/50\n",
      "195/195 - 11s - loss: 0.0644 - accuracy: 0.9795 - val_loss: 0.4496 - val_accuracy: 0.9346\n",
      "Epoch 13/50\n",
      "195/195 - 10s - loss: 0.0726 - accuracy: 0.9795 - val_loss: 0.3522 - val_accuracy: 0.9231\n",
      "Epoch 14/50\n",
      "195/195 - 10s - loss: 0.0731 - accuracy: 0.9761 - val_loss: 0.4601 - val_accuracy: 0.9308\n",
      "Epoch 15/50\n",
      "195/195 - 10s - loss: 0.0788 - accuracy: 0.9786 - val_loss: 0.4228 - val_accuracy: 0.9346\n",
      "Epoch 16/50\n",
      "195/195 - 10s - loss: 0.0399 - accuracy: 0.9910 - val_loss: 0.4946 - val_accuracy: 0.9115\n",
      "Epoch 17/50\n",
      "195/195 - 10s - loss: 0.0422 - accuracy: 0.9855 - val_loss: 0.4609 - val_accuracy: 0.9269\n",
      "Epoch 18/50\n",
      "195/195 - 10s - loss: 0.0364 - accuracy: 0.9910 - val_loss: 0.4643 - val_accuracy: 0.9269\n",
      "Epoch 19/50\n",
      "195/195 - 10s - loss: 0.0301 - accuracy: 0.9910 - val_loss: 0.4875 - val_accuracy: 0.9269\n",
      "Epoch 20/50\n",
      "195/195 - 10s - loss: 0.0376 - accuracy: 0.9876 - val_loss: 0.5333 - val_accuracy: 0.9423\n",
      "Epoch 21/50\n",
      "195/195 - 10s - loss: 0.0421 - accuracy: 0.9863 - val_loss: 0.5872 - val_accuracy: 0.8769\n",
      "Epoch 22/50\n",
      "195/195 - 10s - loss: 0.0833 - accuracy: 0.9739 - val_loss: 0.4510 - val_accuracy: 0.8923\n",
      "Epoch 23/50\n",
      "195/195 - 10s - loss: 0.0443 - accuracy: 0.9889 - val_loss: 0.2857 - val_accuracy: 0.9462\n",
      "Epoch 24/50\n",
      "195/195 - 10s - loss: 0.0566 - accuracy: 0.9791 - val_loss: 0.4303 - val_accuracy: 0.8962\n",
      "Epoch 25/50\n",
      "195/195 - 10s - loss: 0.0201 - accuracy: 0.9932 - val_loss: 0.4661 - val_accuracy: 0.9346\n",
      "Epoch 26/50\n",
      "195/195 - 10s - loss: 0.0556 - accuracy: 0.9846 - val_loss: 0.5156 - val_accuracy: 0.9192\n",
      "Epoch 27/50\n",
      "195/195 - 10s - loss: 0.0655 - accuracy: 0.9799 - val_loss: 0.4544 - val_accuracy: 0.9115\n",
      "Epoch 28/50\n",
      "195/195 - 10s - loss: 0.0149 - accuracy: 0.9944 - val_loss: 0.4527 - val_accuracy: 0.9308\n",
      "Epoch 29/50\n",
      "195/195 - 10s - loss: 0.0095 - accuracy: 0.9970 - val_loss: 0.4298 - val_accuracy: 0.9346\n",
      "Epoch 30/50\n",
      "195/195 - 10s - loss: 0.0196 - accuracy: 0.9962 - val_loss: 0.5807 - val_accuracy: 0.9385\n",
      "Epoch 31/50\n",
      "195/195 - 10s - loss: 0.0637 - accuracy: 0.9808 - val_loss: 0.4707 - val_accuracy: 0.9231\n",
      "Epoch 32/50\n",
      "195/195 - 10s - loss: 0.1003 - accuracy: 0.9756 - val_loss: 0.3850 - val_accuracy: 0.9385\n",
      "Epoch 33/50\n",
      "195/195 - 10s - loss: 0.0251 - accuracy: 0.9940 - val_loss: 0.3659 - val_accuracy: 0.9346\n",
      "Epoch 34/50\n",
      "195/195 - 10s - loss: 0.0020 - accuracy: 0.9996 - val_loss: 0.3956 - val_accuracy: 0.9462\n",
      "Epoch 35/50\n",
      "195/195 - 10s - loss: 0.0050 - accuracy: 0.9991 - val_loss: 0.3842 - val_accuracy: 0.9423\n",
      "Epoch 36/50\n",
      "195/195 - 10s - loss: 0.0279 - accuracy: 0.9923 - val_loss: 0.6027 - val_accuracy: 0.9308\n",
      "Epoch 37/50\n",
      "195/195 - 10s - loss: 0.0541 - accuracy: 0.9825 - val_loss: 0.5838 - val_accuracy: 0.9308\n",
      "Epoch 38/50\n",
      "195/195 - 10s - loss: 0.0477 - accuracy: 0.9889 - val_loss: 0.5685 - val_accuracy: 0.9038\n",
      "Epoch 39/50\n",
      "195/195 - 10s - loss: 0.0673 - accuracy: 0.9833 - val_loss: 0.5442 - val_accuracy: 0.9000\n",
      "Epoch 40/50\n",
      "195/195 - 10s - loss: 0.0474 - accuracy: 0.9846 - val_loss: 0.5109 - val_accuracy: 0.9077\n",
      "Epoch 41/50\n",
      "195/195 - 10s - loss: 0.0257 - accuracy: 0.9936 - val_loss: 0.4331 - val_accuracy: 0.9462\n",
      "Epoch 42/50\n",
      "195/195 - 10s - loss: 0.0492 - accuracy: 0.9850 - val_loss: 0.4079 - val_accuracy: 0.9269\n",
      "Epoch 43/50\n",
      "195/195 - 10s - loss: 0.0315 - accuracy: 0.9910 - val_loss: 0.4076 - val_accuracy: 0.9269\n",
      "Epoch 44/50\n",
      "195/195 - 9s - loss: 0.0045 - accuracy: 0.9979 - val_loss: 0.3861 - val_accuracy: 0.9385\n",
      "Epoch 45/50\n",
      "195/195 - 10s - loss: 0.0070 - accuracy: 0.9979 - val_loss: 0.4843 - val_accuracy: 0.9269\n",
      "Epoch 46/50\n",
      "195/195 - 10s - loss: 0.0261 - accuracy: 0.9936 - val_loss: 0.3688 - val_accuracy: 0.9500\n",
      "Epoch 47/50\n",
      "195/195 - 10s - loss: 0.0279 - accuracy: 0.9910 - val_loss: 0.5511 - val_accuracy: 0.9385\n",
      "Epoch 48/50\n",
      "195/195 - 10s - loss: 0.0385 - accuracy: 0.9868 - val_loss: 0.5711 - val_accuracy: 0.9192\n",
      "Epoch 49/50\n",
      "195/195 - 10s - loss: 0.0804 - accuracy: 0.9821 - val_loss: 0.8994 - val_accuracy: 0.9000\n",
      "Epoch 50/50\n",
      "195/195 - 10s - loss: 0.0524 - accuracy: 0.9880 - val_loss: 0.6041 - val_accuracy: 0.9269\n"
     ]
    }
   ],
   "source": [
    "CNN = CNN_model.fit(\n",
    "    train_generator,\n",
    "    epochs=50,\n",
    "    batch_size=12,\n",
    "    verbose=2,\n",
    "    validation_data=val_generator,\n",
    ")"
   ]
  },
  {
   "cell_type": "markdown",
   "metadata": {},
   "source": [
    "### After training the CNN model we get a training accuracy of 98.80% and a validation accuracy of 92.69% after 50 epochs"
   ]
  },
  {
   "cell_type": "code",
   "execution_count": 16,
   "metadata": {},
   "outputs": [],
   "source": [
    "CNN_history = pd.DataFrame(CNN.history)"
   ]
  },
  {
   "cell_type": "markdown",
   "metadata": {},
   "source": [
    "#### Plotting the accuracy and validation accuracy"
   ]
  },
  {
   "cell_type": "code",
   "execution_count": 17,
   "metadata": {},
   "outputs": [
    {
     "data": {
      "image/png": "[encoded data removed]",
      "text/plain": [
       "<Figure size 432x288 with 1 Axes>"
      ]
     },
     "metadata": {
      "needs_background": "light"
     },
     "output_type": "display_data"
    }
   ],
   "source": [
    "CNN_history.loc[0:, ['accuracy','val_accuracy']].plot()\n",
    "plt.title('model accuracy')\n",
    "plt.ylabel('accuracy')\n",
    "plt.xlabel('epoch')\n",
    "plt.legend(['training accuracy', 'validation accuracy'], loc='upper right')\n",
    "plt.show()"
   ]
  },
  {
   "cell_type": "markdown",
   "metadata": {},
   "source": [
    "#### Plottin the loss and validation loss"
   ]
  },
  {
   "cell_type": "code",
   "execution_count": 18,
   "metadata": {},
   "outputs": [
    {
     "data": {
      "image/png": "[encoded data removed]",
      "text/plain": [
       "<Figure size 432x288 with 1 Axes>"
      ]
     },
     "metadata": {
      "needs_background": "light"
     },
     "output_type": "display_data"
    }
   ],
   "source": [
    "CNN_history.loc[0:, ['loss', 'val_loss']].plot()\n",
    "plt.title('model loss')\n",
    "plt.ylabel('loss')\n",
    "plt.xlabel('epoch')\n",
    "plt.legend(['training loss', 'validation loss'], loc='upper right')\n",
    "plt.show()"
   ]
  },
  {
   "cell_type": "code",
   "execution_count": 21,
   "metadata": {},
   "outputs": [
    {
     "name": "stdout",
     "output_type": "stream",
     "text": [
      "INFO:tensorflow:Assets written to: C:\\Users\\KIIT\\Documents\\LGM-Soc contributions\\English Alphabet Classification\\Model/CNN classifier.model\\assets\n"
     ]
    }
   ],
   "source": [
    "CNN_model.save(r'C:\\Users\\KIIT\\Documents\\LGM-Soc contributions\\English Alphabet Classification\\Model/CNN classifier.model')"
   ]
  },
  {
   "cell_type": "code",
   "execution_count": null,
   "metadata": {},
   "outputs": [],
   "source": []
  }
 ],
 "metadata": {
  "kernelspec": {
   "display_name": "Python 3",
   "language": "python",
   "name": "python3"
  },
  "language_info": {
   "codemirror_mode": {
    "name": "ipython",
    "version": 3
   },
   "file_extension": ".py",
   "mimetype": "text/x-python",
   "name": "python",
   "nbconvert_exporter": "python",
   "pygments_lexer": "ipython3",
   "version": "3.7.9"
  }
 },
 "nbformat": 4,
 "nbformat_minor": 4
}
