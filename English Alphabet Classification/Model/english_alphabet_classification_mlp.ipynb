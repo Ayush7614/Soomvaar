{
 "cells": [
  {
   "cell_type": "markdown",
   "metadata": {},
   "source": [
    "# English Alphabet Classification Recognition using MLP approach"
   ]
  },
  {
   "cell_type": "markdown",
   "metadata": {},
   "source": [
    "### The aim of this project is to recognize the computerised generated images of the English apphabets. The dataset contains 26 classes which comprises of a to z alphabets, each class containing 100 images. Here first we will first try training a Multi Layer Perceptron model and check its accuracy."
   ]
  },
  {
   "cell_type": "code",
   "execution_count": 1,
   "metadata": {},
   "outputs": [],
   "source": [
    "import tensorflow as tf\n",
    "import cv2\n",
    "from glob import glob\n",
    "from matplotlib import pyplot as plt\n",
    "import random\n",
    "import math\n",
    "import os\n",
    "import numpy as np\n",
    "from numpy.random import seed\n",
    "seed(100)\n",
    "tf.random.set_seed(101) "
   ]
  },
  {
   "cell_type": "code",
   "execution_count": 2,
   "metadata": {},
   "outputs": [
    {
     "name": "stdout",
     "output_type": "stream",
     "text": [
      "C:\\Users\\KIIT\\Documents\\LGM-Soc contributions\\English Alphabet Classification\\Dataset\\images/\n",
      "C:\\Users\\KIIT\\Documents\\LGM-Soc contributions\\English Alphabet Classification\\Dataset\\images/a\n",
      "C:\\Users\\KIIT\\Documents\\LGM-Soc contributions\\English Alphabet Classification\\Dataset\\images/b\n",
      "C:\\Users\\KIIT\\Documents\\LGM-Soc contributions\\English Alphabet Classification\\Dataset\\images/c\n",
      "C:\\Users\\KIIT\\Documents\\LGM-Soc contributions\\English Alphabet Classification\\Dataset\\images/d\n",
      "C:\\Users\\KIIT\\Documents\\LGM-Soc contributions\\English Alphabet Classification\\Dataset\\images/e\n",
      "C:\\Users\\KIIT\\Documents\\LGM-Soc contributions\\English Alphabet Classification\\Dataset\\images/f\n",
      "C:\\Users\\KIIT\\Documents\\LGM-Soc contributions\\English Alphabet Classification\\Dataset\\images/g\n",
      "C:\\Users\\KIIT\\Documents\\LGM-Soc contributions\\English Alphabet Classification\\Dataset\\images/h\n",
      "C:\\Users\\KIIT\\Documents\\LGM-Soc contributions\\English Alphabet Classification\\Dataset\\images/i\n",
      "C:\\Users\\KIIT\\Documents\\LGM-Soc contributions\\English Alphabet Classification\\Dataset\\images/j\n",
      "C:\\Users\\KIIT\\Documents\\LGM-Soc contributions\\English Alphabet Classification\\Dataset\\images/k\n",
      "C:\\Users\\KIIT\\Documents\\LGM-Soc contributions\\English Alphabet Classification\\Dataset\\images/l\n",
      "C:\\Users\\KIIT\\Documents\\LGM-Soc contributions\\English Alphabet Classification\\Dataset\\images/m\n",
      "C:\\Users\\KIIT\\Documents\\LGM-Soc contributions\\English Alphabet Classification\\Dataset\\images/n\n",
      "C:\\Users\\KIIT\\Documents\\LGM-Soc contributions\\English Alphabet Classification\\Dataset\\images/o\n",
      "C:\\Users\\KIIT\\Documents\\LGM-Soc contributions\\English Alphabet Classification\\Dataset\\images/p\n",
      "C:\\Users\\KIIT\\Documents\\LGM-Soc contributions\\English Alphabet Classification\\Dataset\\images/q\n",
      "C:\\Users\\KIIT\\Documents\\LGM-Soc contributions\\English Alphabet Classification\\Dataset\\images/r\n",
      "C:\\Users\\KIIT\\Documents\\LGM-Soc contributions\\English Alphabet Classification\\Dataset\\images/s\n",
      "C:\\Users\\KIIT\\Documents\\LGM-Soc contributions\\English Alphabet Classification\\Dataset\\images/t\n",
      "C:\\Users\\KIIT\\Documents\\LGM-Soc contributions\\English Alphabet Classification\\Dataset\\images/u\n",
      "C:\\Users\\KIIT\\Documents\\LGM-Soc contributions\\English Alphabet Classification\\Dataset\\images/v\n",
      "C:\\Users\\KIIT\\Documents\\LGM-Soc contributions\\English Alphabet Classification\\Dataset\\images/w\n",
      "C:\\Users\\KIIT\\Documents\\LGM-Soc contributions\\English Alphabet Classification\\Dataset\\images/x\n",
      "C:\\Users\\KIIT\\Documents\\LGM-Soc contributions\\English Alphabet Classification\\Dataset\\images/y\n",
      "C:\\Users\\KIIT\\Documents\\LGM-Soc contributions\\English Alphabet Classification\\Dataset\\images/z\n"
     ]
    }
   ],
   "source": [
    "for dirname, _, filenames in os.walk(r'C:\\Users\\KIIT\\Documents\\LGM-Soc contributions\\English Alphabet Classification\\Dataset\\images/'):\n",
    "    print(dirname)"
   ]
  },
  {
   "cell_type": "markdown",
   "metadata": {},
   "source": [
    "### Defining a function to display sample images from the dataset when their corresponding labels are given as input "
   ]
  },
  {
   "cell_type": "code",
   "execution_count": 3,
   "metadata": {},
   "outputs": [],
   "source": [
    "def plotSample(character):\n",
    "    print(\"Samples images of English Alphabet \" + character)\n",
    "    basePath = r'C:\\Users\\KIIT\\Documents\\LGM-Soc contributions\\English Alphabet Classification\\Dataset\\images/'\n",
    "    imagePath = basePath + character + '/**'\n",
    "    pathData = glob(imagePath)\n",
    "    \n",
    "    plt.figure(figsize=(16,16))\n",
    "    images = random.sample(pathData, 3)\n",
    "    plt.subplot(1,3,1)\n",
    "    plt.imshow(cv2.imread(images[0]))\n",
    "    plt.subplot(1,3,2)\n",
    "    plt.imshow(cv2.imread(images[1]))\n",
    "    plt.subplot(1,3,3)\n",
    "    plt.imshow(cv2.imread(images[2]))\n",
    "    plt.colorbar()\n",
    "    plt.show()\n",
    "    return"
   ]
  },
  {
   "cell_type": "code",
   "execution_count": 4,
   "metadata": {},
   "outputs": [
    {
     "name": "stdout",
     "output_type": "stream",
     "text": [
      "Samples images of English Alphabet x\n"
     ]
    },
    {
     "data": {
      "image/png": "[encoded data removed]",
      "text/plain": [
       "<Figure size 1152x1152 with 4 Axes>"
      ]
     },
     "metadata": {
      "needs_background": "light"
     },
     "output_type": "display_data"
    }
   ],
   "source": [
    "plotSample('x')"
   ]
  },
  {
   "cell_type": "markdown",
   "metadata": {},
   "source": [
    "### Performing Data Augmentation using ImageDataGenerator to import training images and augment more images"
   ]
  },
  {
   "cell_type": "code",
   "execution_count": 5,
   "metadata": {},
   "outputs": [
    {
     "name": "stdout",
     "output_type": "stream",
     "text": [
      "Found 2340 images belonging to 26 classes.\n",
      "Found 260 images belonging to 26 classes.\n"
     ]
    }
   ],
   "source": [
    "dataPath =  r'C:\\Users\\KIIT\\Documents\\LGM-Soc contributions\\English Alphabet Classification\\Dataset\\images/'\n",
    "resizeTuple = (64, 64)\n",
    "resizeDim = (64, 64, 3)\n",
    "numLabels = 29\n",
    "batchSize = 64\n",
    "\n",
    "data_generator = tf.keras.preprocessing.image.ImageDataGenerator(samplewise_center=True, \n",
    "                                    samplewise_std_normalization=True, \n",
    "                                    validation_split=0.1)\n",
    "\n",
    "train_generator = data_generator.flow_from_directory(dataPath, target_size=resizeTuple, batch_size=batchSize, shuffle=True, subset=\"training\")\n",
    "val_generator = data_generator.flow_from_directory(dataPath, target_size=resizeTuple, batch_size=batchSize, subset=\"validation\")"
   ]
  },
  {
   "cell_type": "markdown",
   "metadata": {},
   "source": [
    "## Building the Multi Layer Perceptron model "
   ]
  },
  {
   "cell_type": "code",
   "execution_count": 6,
   "metadata": {},
   "outputs": [
    {
     "name": "stdout",
     "output_type": "stream",
     "text": [
      "Model: \"sequential\"\n",
      "_________________________________________________________________\n",
      "Layer (type)                 Output Shape              Param #   \n",
      "=================================================================\n",
      "flatten (Flatten)            (None, 12288)             0         \n",
      "_________________________________________________________________\n",
      "dense (Dense)                (None, 200)               2457800   \n",
      "_________________________________________________________________\n",
      "dropout (Dropout)            (None, 200)               0         \n",
      "_________________________________________________________________\n",
      "dense_1 (Dense)              (None, 200)               40200     \n",
      "_________________________________________________________________\n",
      "dropout_1 (Dropout)          (None, 200)               0         \n",
      "_________________________________________________________________\n",
      "dense_2 (Dense)              (None, 200)               40200     \n",
      "_________________________________________________________________\n",
      "dense_3 (Dense)              (None, 100)               20100     \n",
      "_________________________________________________________________\n",
      "dense_4 (Dense)              (None, 100)               10100     \n",
      "_________________________________________________________________\n",
      "dense_5 (Dense)              (None, 50)                5050      \n",
      "_________________________________________________________________\n",
      "dense_6 (Dense)              (None, 26)                1326      \n",
      "=================================================================\n",
      "Total params: 2,574,776\n",
      "Trainable params: 2,574,776\n",
      "Non-trainable params: 0\n",
      "_________________________________________________________________\n"
     ]
    }
   ],
   "source": [
    "model = tf.keras.Sequential([\n",
    "    tf.keras.layers.Flatten(input_shape=resizeDim),\n",
    "    tf.keras.layers.Dense(200, activation = \"relu\", kernel_regularizer = tf.keras.regularizers.l2(0.005)),\n",
    "    tf.keras.layers.Dropout(0.1),\n",
    "    tf.keras.layers.Dense(200, activation = \"relu\", kernel_regularizer = tf.keras.regularizers.l2(0.005)),\n",
    "    tf.keras.layers.Dropout(0.1),\n",
    "    tf.keras.layers.Dense(200, activation = \"relu\", kernel_regularizer = tf.keras.regularizers.l2(0.005)),\n",
    "    tf.keras.layers.Dense(100, activation = \"relu\"),\n",
    "    tf.keras.layers.Dense(100, activation = \"relu\"),\n",
    "    tf.keras.layers.Dense(50, activation = \"relu\"),\n",
    "    tf.keras.layers.Dense(26, activation = \"softmax\")\n",
    "])\n",
    "\n",
    "model.summary()"
   ]
  },
  {
   "cell_type": "code",
   "execution_count": 7,
   "metadata": {},
   "outputs": [],
   "source": [
    "model.compile(optimizer='adam', loss='categorical_crossentropy', metrics=[\"accuracy\"])"
   ]
  },
  {
   "cell_type": "markdown",
   "metadata": {},
   "source": [
    "#### Defining a function to determine the learning_rate decay based on epoch schedule."
   ]
  },
  {
   "cell_type": "code",
   "execution_count": 8,
   "metadata": {},
   "outputs": [],
   "source": [
    "def scheduler(epoch):\n",
    "    if epoch < 25:\n",
    "        return 0.00001\n",
    "    else:\n",
    "        return 0.00001 * math.exp(0.1 * (25 - epoch))"
   ]
  },
  {
   "cell_type": "code",
   "execution_count": 9,
   "metadata": {},
   "outputs": [],
   "source": [
    "callback = tf.keras.callbacks.LearningRateScheduler(scheduler)"
   ]
  },
  {
   "cell_type": "code",
   "execution_count": 10,
   "metadata": {},
   "outputs": [
    {
     "name": "stdout",
     "output_type": "stream",
     "text": [
      "Epoch 1/50"
     ]
    },
    {
     "name": "stderr",
     "output_type": "stream",
     "text": [
      "C:\\Users\\KIIT\\anaconda3\\lib\\site-packages\\tensorflow\\python\\keras\\engine\\training.py:1844: UserWarning: `Model.fit_generator` is deprecated and will be removed in a future version. Please use `Model.fit`, which supports generators.\n",
      "  warnings.warn('`Model.fit_generator` is deprecated and '\n"
     ]
    },
    {
     "name": "stdout",
     "output_type": "stream",
     "text": [
      "\n",
      "37/37 [==============================] - 4s 80ms/step - loss: 7.2495 - accuracy: 0.0426 - val_loss: 7.1932 - val_accuracy: 0.0462\n",
      "Epoch 2/50\n",
      "37/37 [==============================] - 3s 75ms/step - loss: 7.1695 - accuracy: 0.0616 - val_loss: 7.1311 - val_accuracy: 0.0769\n",
      "Epoch 3/50\n",
      "37/37 [==============================] - 2s 62ms/step - loss: 7.1178 - accuracy: 0.0877 - val_loss: 7.0690 - val_accuracy: 0.1115\n",
      "Epoch 4/50\n",
      "37/37 [==============================] - 2s 62ms/step - loss: 7.0411 - accuracy: 0.1055 - val_loss: 7.0022 - val_accuracy: 0.1077\n",
      "Epoch 5/50\n",
      "37/37 [==============================] - 3s 70ms/step - loss: 6.9853 - accuracy: 0.1182 - val_loss: 6.9319 - val_accuracy: 0.1308\n",
      "Epoch 6/50\n",
      "37/37 [==============================] - 2s 64ms/step - loss: 6.9269 - accuracy: 0.1257 - val_loss: 6.8637 - val_accuracy: 0.1346\n",
      "Epoch 7/50\n",
      "37/37 [==============================] - 3s 69ms/step - loss: 6.8484 - accuracy: 0.1480 - val_loss: 6.7968 - val_accuracy: 0.1423\n",
      "Epoch 8/50\n",
      "37/37 [==============================] - 3s 69ms/step - loss: 6.7614 - accuracy: 0.1551 - val_loss: 6.7266 - val_accuracy: 0.1423\n",
      "Epoch 9/50\n",
      "37/37 [==============================] - 3s 71ms/step - loss: 6.7156 - accuracy: 0.1733 - val_loss: 6.6582 - val_accuracy: 0.1500\n",
      "Epoch 10/50\n",
      "37/37 [==============================] - 3s 70ms/step - loss: 6.6272 - accuracy: 0.1970 - val_loss: 6.5912 - val_accuracy: 0.1731\n",
      "Epoch 11/50\n",
      "37/37 [==============================] - 3s 79ms/step - loss: 6.5815 - accuracy: 0.1979 - val_loss: 6.5195 - val_accuracy: 0.2115\n",
      "Epoch 12/50\n",
      "37/37 [==============================] - 4s 99ms/step - loss: 6.4924 - accuracy: 0.2218 - val_loss: 6.4489 - val_accuracy: 0.2577\n",
      "Epoch 13/50\n",
      "37/37 [==============================] - 3s 92ms/step - loss: 6.4118 - accuracy: 0.2435 - val_loss: 6.3838 - val_accuracy: 0.2615\n",
      "Epoch 14/50\n",
      "37/37 [==============================] - 3s 76ms/step - loss: 6.3565 - accuracy: 0.2693 - val_loss: 6.3145 - val_accuracy: 0.2846\n",
      "Epoch 15/50\n",
      "37/37 [==============================] - 2s 64ms/step - loss: 6.2715 - accuracy: 0.2810 - val_loss: 6.2525 - val_accuracy: 0.3115\n",
      "Epoch 16/50\n",
      "37/37 [==============================] - 2s 62ms/step - loss: 6.2094 - accuracy: 0.2999 - val_loss: 6.1861 - val_accuracy: 0.3154\n",
      "Epoch 17/50\n",
      "37/37 [==============================] - 3s 85ms/step - loss: 6.1258 - accuracy: 0.3276 - val_loss: 6.1260 - val_accuracy: 0.3231\n",
      "Epoch 18/50\n",
      "37/37 [==============================] - 2s 61ms/step - loss: 6.0530 - accuracy: 0.3292 - val_loss: 6.0680 - val_accuracy: 0.3500\n",
      "Epoch 19/50\n",
      "37/37 [==============================] - 2s 67ms/step - loss: 6.0214 - accuracy: 0.3453 - val_loss: 6.0107 - val_accuracy: 0.3500\n",
      "Epoch 20/50\n",
      "37/37 [==============================] - 2s 63ms/step - loss: 5.9398 - accuracy: 0.3607 - val_loss: 5.9546 - val_accuracy: 0.3654\n",
      "Epoch 21/50\n",
      "37/37 [==============================] - 2s 66ms/step - loss: 5.8602 - accuracy: 0.3868 - val_loss: 5.8982 - val_accuracy: 0.3654\n",
      "Epoch 22/50\n",
      "37/37 [==============================] - 2s 65ms/step - loss: 5.7981 - accuracy: 0.3946 - val_loss: 5.8379 - val_accuracy: 0.3731\n",
      "Epoch 23/50\n",
      "37/37 [==============================] - 2s 60ms/step - loss: 5.7358 - accuracy: 0.3974 - val_loss: 5.7803 - val_accuracy: 0.4000\n",
      "Epoch 24/50\n",
      "37/37 [==============================] - 2s 66ms/step - loss: 5.6457 - accuracy: 0.4293 - val_loss: 5.7243 - val_accuracy: 0.4115\n",
      "Epoch 25/50\n",
      "37/37 [==============================] - 2s 59ms/step - loss: 5.6386 - accuracy: 0.4241 - val_loss: 5.6687 - val_accuracy: 0.4192\n",
      "Epoch 26/50\n",
      "37/37 [==============================] - 2s 64ms/step - loss: 5.5553 - accuracy: 0.4388 - val_loss: 5.6155 - val_accuracy: 0.4192\n",
      "Epoch 27/50\n",
      "37/37 [==============================] - 2s 62ms/step - loss: 5.5073 - accuracy: 0.4764 - val_loss: 5.5720 - val_accuracy: 0.4231\n",
      "Epoch 28/50\n",
      "37/37 [==============================] - 2s 61ms/step - loss: 5.3952 - accuracy: 0.4902 - val_loss: 5.5289 - val_accuracy: 0.4308\n",
      "Epoch 29/50\n",
      "37/37 [==============================] - 2s 66ms/step - loss: 5.4136 - accuracy: 0.4679 - val_loss: 5.4899 - val_accuracy: 0.4346\n",
      "Epoch 30/50\n",
      "37/37 [==============================] - 3s 75ms/step - loss: 5.3382 - accuracy: 0.5141 - val_loss: 5.4569 - val_accuracy: 0.4423\n",
      "Epoch 31/50\n",
      "37/37 [==============================] - 3s 70ms/step - loss: 5.3320 - accuracy: 0.5007 - val_loss: 5.4289 - val_accuracy: 0.4346\n",
      "Epoch 32/50\n",
      "37/37 [==============================] - 2s 67ms/step - loss: 5.2954 - accuracy: 0.4976 - val_loss: 5.4028 - val_accuracy: 0.4423\n",
      "Epoch 33/50\n",
      "37/37 [==============================] - 3s 68ms/step - loss: 5.2580 - accuracy: 0.5181 - val_loss: 5.3805 - val_accuracy: 0.4538\n",
      "Epoch 34/50\n",
      "37/37 [==============================] - 3s 77ms/step - loss: 5.2561 - accuracy: 0.5211 - val_loss: 5.3597 - val_accuracy: 0.4500\n",
      "Epoch 35/50\n",
      "37/37 [==============================] - 3s 82ms/step - loss: 5.2341 - accuracy: 0.5131 - val_loss: 5.3428 - val_accuracy: 0.4462\n",
      "Epoch 36/50\n",
      "37/37 [==============================] - 3s 80ms/step - loss: 5.1664 - accuracy: 0.5446 - val_loss: 5.3279 - val_accuracy: 0.4500\n",
      "Epoch 37/50\n",
      "37/37 [==============================] - 3s 79ms/step - loss: 5.1573 - accuracy: 0.5317 - val_loss: 5.3141 - val_accuracy: 0.4615\n",
      "Epoch 38/50\n",
      "37/37 [==============================] - 3s 80ms/step - loss: 5.1671 - accuracy: 0.5374 - val_loss: 5.3009 - val_accuracy: 0.4615\n",
      "Epoch 39/50\n",
      "37/37 [==============================] - 3s 79ms/step - loss: 5.1366 - accuracy: 0.5427 - val_loss: 5.2886 - val_accuracy: 0.4615\n",
      "Epoch 40/50\n",
      "37/37 [==============================] - 3s 83ms/step - loss: 5.1435 - accuracy: 0.5337 - val_loss: 5.2786 - val_accuracy: 0.4731\n",
      "Epoch 41/50\n",
      "37/37 [==============================] - 3s 87ms/step - loss: 5.1328 - accuracy: 0.5511 - val_loss: 5.2683 - val_accuracy: 0.4692\n",
      "Epoch 42/50\n",
      "37/37 [==============================] - 3s 78ms/step - loss: 5.0889 - accuracy: 0.5615 - val_loss: 5.2596 - val_accuracy: 0.4692\n",
      "Epoch 43/50\n",
      "37/37 [==============================] - 3s 94ms/step - loss: 5.0621 - accuracy: 0.5838 - val_loss: 5.2528 - val_accuracy: 0.4769\n",
      "Epoch 44/50\n",
      "37/37 [==============================] - 3s 77ms/step - loss: 5.1184 - accuracy: 0.5279 - val_loss: 5.2477 - val_accuracy: 0.4692\n",
      "Epoch 45/50\n",
      "37/37 [==============================] - 3s 68ms/step - loss: 5.0618 - accuracy: 0.5588 - val_loss: 5.2414 - val_accuracy: 0.4731\n",
      "Epoch 46/50\n",
      "37/37 [==============================] - 2s 64ms/step - loss: 5.1009 - accuracy: 0.5463 - val_loss: 5.2358 - val_accuracy: 0.4769\n",
      "Epoch 47/50\n",
      "37/37 [==============================] - 2s 62ms/step - loss: 5.0407 - accuracy: 0.5743 - val_loss: 5.2308 - val_accuracy: 0.4692\n",
      "Epoch 48/50\n",
      "37/37 [==============================] - 2s 65ms/step - loss: 5.0385 - accuracy: 0.5682 - val_loss: 5.2263 - val_accuracy: 0.4769\n",
      "Epoch 49/50\n",
      "37/37 [==============================] - 2s 60ms/step - loss: 5.0358 - accuracy: 0.5798 - val_loss: 5.2233 - val_accuracy: 0.4769\n",
      "Epoch 50/50\n",
      "37/37 [==============================] - 3s 75ms/step - loss: 5.0373 - accuracy: 0.5715 - val_loss: 5.2201 - val_accuracy: 0.4769\n"
     ]
    }
   ],
   "source": [
    "history = model.fit_generator(train_generator, epochs=50,validation_data=val_generator, callbacks = [callback], verbose = 1)"
   ]
  },
  {
   "cell_type": "code",
   "execution_count": 11,
   "metadata": {},
   "outputs": [],
   "source": [
    "import pandas as pd\n",
    "history_df = pd.DataFrame(history.history)"
   ]
  },
  {
   "cell_type": "code",
   "execution_count": 12,
   "metadata": {},
   "outputs": [
    {
     "data": {
      "image/png": "[encoded data removed]",
      "text/plain": [
       "<Figure size 432x288 with 1 Axes>"
      ]
     },
     "metadata": {
      "needs_background": "light"
     },
     "output_type": "display_data"
    }
   ],
   "source": [
    "history_df.loc[0:, ['accuracy','val_accuracy']].plot()\n",
    "plt.title('model accuracy')\n",
    "plt.ylabel('accuracy')\n",
    "plt.xlabel('epoch')\n",
    "plt.legend(['training accuracy', 'validation accuracy'], loc='upper right')\n",
    "plt.show()"
   ]
  },
  {
   "cell_type": "code",
   "execution_count": 13,
   "metadata": {},
   "outputs": [
    {
     "data": {
      "image/png": "[encoded data removed]",
      "text/plain": [
       "<Figure size 432x288 with 1 Axes>"
      ]
     },
     "metadata": {
      "needs_background": "light"
     },
     "output_type": "display_data"
    }
   ],
   "source": [
    "history_df.loc[0:, ['loss', 'val_loss']].plot()\n",
    "plt.title('model loss')\n",
    "plt.ylabel('loss')\n",
    "plt.xlabel('epoch')\n",
    "plt.legend(['training loss', 'validation loss'], loc='upper right')\n",
    "plt.show()"
   ]
  },
  {
   "cell_type": "markdown",
   "metadata": {},
   "source": [
    "### After training and testing the MLP model we can conclude that it reaches a training accuracy of 57.15% and validation accuracy of 47.69%."
   ]
  },
  {
   "cell_type": "markdown",
   "metadata": {},
   "source": [
    "###  Inference -  Since the validation accuracy and the training accuracy is my much less, we can say that the MLP model is not the right choice for this type of multiclass classification.\n"
   ]
  },
  {
   "cell_type": "markdown",
   "metadata": {},
   "source": [
    "### Moreover, multi layer perceptron network is not considered to be very efficient over image data. Convolutional neural networks are considered to be more efficient since they also take into consideration, the pixels with their spatial structure and hence perform better than MLP networks. Therefore now we will try this project with CNN approach."
   ]
  }
 ],
 "metadata": {
  "kernelspec": {
   "display_name": "Python 3",
   "language": "python",
   "name": "python3"
  },
  "language_info": {
   "codemirror_mode": {
    "name": "ipython",
    "version": 3
   },
   "file_extension": ".py",
   "mimetype": "text/x-python",
   "name": "python",
   "nbconvert_exporter": "python",
   "pygments_lexer": "ipython3",
   "version": "3.7.9"
  }
 },
 "nbformat": 4,
 "nbformat_minor": 4
}
