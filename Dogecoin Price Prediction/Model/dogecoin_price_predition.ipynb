{
  "nbformat": 4,
  "nbformat_minor": 0,
  "metadata": {
    "colab": {
      "name": "dogecoinPricePredition.ipynb",
      "provenance": []
    },
    "kernelspec": {
      "name": "python3",
      "display_name": "Python 3"
    },
    "language_info": {
      "name": "python"
    }
  },
  "cells": [
    {
      "cell_type": "markdown",
      "metadata": {
        "id": "SSsnbhnDKYHB"
      },
      "source": [
        "# **Dogecoin Price Prediction**\n",
        "\n",
        "\n",
        "* Dogecoin is a cryptocurrency created by software engineers Billy Markus and Jackson Palmer, who decided to create a payment system as a joke, making fun of the wild speculation in cryptocurrencies at the time.\n",
        "* Despite its satirical nature, some consider it a legitimate investment prospect. \n",
        "* Dogecoin features the face of the Shiba Inu dog from the \"Doge\" meme as its logo and namesake.\n",
        "* It was introduced on December 6, 2013, and quickly developed its own online community, reaching a market capitalization of US$85,314,347,523 on May 5, 2021.\n",
        "\n",
        "Steps being followed are:\n",
        "\n",
        "Step 1: Data Preprocessing & Exploration.\n",
        "\n",
        "Step 2: Data Visualization.\n",
        "\n",
        "Step 3: Data Training & Model Creation.\n",
        "\n",
        "Step 4: Performance Evaluation.\n",
        "\n",
        "We will firstly preprocess & explore the data that we have and check for any null or missing values. If found then we'll clean tha data.\n",
        "\n",
        "Then visualize it for better understanding and draw insights from it.\n",
        "\n",
        "Then we'll proceed by data training i.e. spliting data into training and testing data.Then train our model by providing training data and once the model will be trained, we will perform prediction for the test data.\n",
        "\n",
        "At last, we will evaluate the performance of the algorithmn by error check and accuracy check.\n",
        "\n",
        "For the dataset being used [click here](https://www.kaggle.com/sudalairajkumar/cryptocurrencypricehistory?select=coin_Dogecoin.csv)"
      ]
    },
    {
      "cell_type": "markdown",
      "metadata": {
        "id": "oHpD_kRKMFvI"
      },
      "source": [
        "### **Step 1: Data Preprocessing & Exploration.**"
      ]
    },
    {
      "cell_type": "code",
      "metadata": {
        "id": "ZooZzVNDMV71"
      },
      "source": [
        "#import required libaries for data preprocessing.\n",
        "import pandas as pd"
      ],
      "execution_count": 1,
      "outputs": []
    },
    {
      "cell_type": "code",
      "metadata": {
        "colab": {
          "base_uri": "https://localhost:8080/",
          "height": 415
        },
        "id": "CYG61iGKKDSk",
        "outputId": "21c147f4-5286-434e-ad94-6f37ae4b6e4f"
      },
      "source": [
        "data=pd.read_csv('/content/coin_Dogecoin.csv')\n",
        "data"
      ],
      "execution_count": 2,
      "outputs": [
        {
          "output_type": "execute_result",
          "data": {
            "text/html": [
              "<div>\n",
              "<style scoped>\n",
              "    .dataframe tbody tr th:only-of-type {\n",
              "        vertical-align: middle;\n",
              "    }\n",
              "\n",
              "    .dataframe tbody tr th {\n",
              "        vertical-align: top;\n",
              "    }\n",
              "\n",
              "    .dataframe thead th {\n",
              "        text-align: right;\n",
              "    }\n",
              "</style>\n",
              "<table border=\"1\" class=\"dataframe\">\n",
              "  <thead>\n",
              "    <tr style=\"text-align: right;\">\n",
              "      <th></th>\n",
              "      <th>SNo</th>\n",
              "      <th>Name</th>\n",
              "      <th>Symbol</th>\n",
              "      <th>Date</th>\n",
              "      <th>High</th>\n",
              "      <th>Low</th>\n",
              "      <th>Open</th>\n",
              "      <th>Close</th>\n",
              "      <th>Volume</th>\n",
              "      <th>Marketcap</th>\n",
              "    </tr>\n",
              "  </thead>\n",
              "  <tbody>\n",
              "    <tr>\n",
              "      <th>0</th>\n",
              "      <td>1</td>\n",
              "      <td>Dogecoin</td>\n",
              "      <td>DOGE</td>\n",
              "      <td>2013-12-16 23:59:59</td>\n",
              "      <td>0.000866</td>\n",
              "      <td>0.000150</td>\n",
              "      <td>0.000299</td>\n",
              "      <td>0.000205</td>\n",
              "      <td>0.000000e+00</td>\n",
              "      <td>1.509085e+06</td>\n",
              "    </tr>\n",
              "    <tr>\n",
              "      <th>1</th>\n",
              "      <td>2</td>\n",
              "      <td>Dogecoin</td>\n",
              "      <td>DOGE</td>\n",
              "      <td>2013-12-17 23:59:59</td>\n",
              "      <td>0.000289</td>\n",
              "      <td>0.000116</td>\n",
              "      <td>0.000207</td>\n",
              "      <td>0.000269</td>\n",
              "      <td>0.000000e+00</td>\n",
              "      <td>2.169688e+06</td>\n",
              "    </tr>\n",
              "    <tr>\n",
              "      <th>2</th>\n",
              "      <td>3</td>\n",
              "      <td>Dogecoin</td>\n",
              "      <td>DOGE</td>\n",
              "      <td>2013-12-18 23:59:59</td>\n",
              "      <td>0.000362</td>\n",
              "      <td>0.000205</td>\n",
              "      <td>0.000267</td>\n",
              "      <td>0.000362</td>\n",
              "      <td>0.000000e+00</td>\n",
              "      <td>3.188943e+06</td>\n",
              "    </tr>\n",
              "    <tr>\n",
              "      <th>3</th>\n",
              "      <td>4</td>\n",
              "      <td>Dogecoin</td>\n",
              "      <td>DOGE</td>\n",
              "      <td>2013-12-19 23:59:59</td>\n",
              "      <td>0.001520</td>\n",
              "      <td>0.000328</td>\n",
              "      <td>0.000395</td>\n",
              "      <td>0.001162</td>\n",
              "      <td>0.000000e+00</td>\n",
              "      <td>1.115034e+07</td>\n",
              "    </tr>\n",
              "    <tr>\n",
              "      <th>4</th>\n",
              "      <td>5</td>\n",
              "      <td>Dogecoin</td>\n",
              "      <td>DOGE</td>\n",
              "      <td>2013-12-20 23:59:59</td>\n",
              "      <td>0.001143</td>\n",
              "      <td>0.000662</td>\n",
              "      <td>0.001143</td>\n",
              "      <td>0.000704</td>\n",
              "      <td>0.000000e+00</td>\n",
              "      <td>7.284337e+06</td>\n",
              "    </tr>\n",
              "    <tr>\n",
              "      <th>...</th>\n",
              "      <td>...</td>\n",
              "      <td>...</td>\n",
              "      <td>...</td>\n",
              "      <td>...</td>\n",
              "      <td>...</td>\n",
              "      <td>...</td>\n",
              "      <td>...</td>\n",
              "      <td>...</td>\n",
              "      <td>...</td>\n",
              "      <td>...</td>\n",
              "    </tr>\n",
              "    <tr>\n",
              "      <th>2755</th>\n",
              "      <td>2756</td>\n",
              "      <td>Dogecoin</td>\n",
              "      <td>DOGE</td>\n",
              "      <td>2021-07-02 23:59:59</td>\n",
              "      <td>0.247997</td>\n",
              "      <td>0.238848</td>\n",
              "      <td>0.243982</td>\n",
              "      <td>0.245264</td>\n",
              "      <td>1.321471e+09</td>\n",
              "      <td>3.194925e+10</td>\n",
              "    </tr>\n",
              "    <tr>\n",
              "      <th>2756</th>\n",
              "      <td>2757</td>\n",
              "      <td>Dogecoin</td>\n",
              "      <td>DOGE</td>\n",
              "      <td>2021-07-03 23:59:59</td>\n",
              "      <td>0.250214</td>\n",
              "      <td>0.242454</td>\n",
              "      <td>0.245106</td>\n",
              "      <td>0.246411</td>\n",
              "      <td>9.170158e+08</td>\n",
              "      <td>3.210491e+10</td>\n",
              "    </tr>\n",
              "    <tr>\n",
              "      <th>2757</th>\n",
              "      <td>2758</td>\n",
              "      <td>Dogecoin</td>\n",
              "      <td>DOGE</td>\n",
              "      <td>2021-07-04 23:59:59</td>\n",
              "      <td>0.252567</td>\n",
              "      <td>0.243425</td>\n",
              "      <td>0.246425</td>\n",
              "      <td>0.246483</td>\n",
              "      <td>9.735115e+08</td>\n",
              "      <td>3.211767e+10</td>\n",
              "    </tr>\n",
              "    <tr>\n",
              "      <th>2758</th>\n",
              "      <td>2759</td>\n",
              "      <td>Dogecoin</td>\n",
              "      <td>DOGE</td>\n",
              "      <td>2021-07-05 23:59:59</td>\n",
              "      <td>0.246419</td>\n",
              "      <td>0.227838</td>\n",
              "      <td>0.246419</td>\n",
              "      <td>0.231614</td>\n",
              "      <td>1.267949e+09</td>\n",
              "      <td>3.018344e+10</td>\n",
              "    </tr>\n",
              "    <tr>\n",
              "      <th>2759</th>\n",
              "      <td>2760</td>\n",
              "      <td>Dogecoin</td>\n",
              "      <td>DOGE</td>\n",
              "      <td>2021-07-06 23:59:59</td>\n",
              "      <td>0.241910</td>\n",
              "      <td>0.229842</td>\n",
              "      <td>0.231216</td>\n",
              "      <td>0.234422</td>\n",
              "      <td>1.265920e+09</td>\n",
              "      <td>3.055252e+10</td>\n",
              "    </tr>\n",
              "  </tbody>\n",
              "</table>\n",
              "<p>2760 rows × 10 columns</p>\n",
              "</div>"
            ],
            "text/plain": [
              "       SNo      Name Symbol  ...     Close        Volume     Marketcap\n",
              "0        1  Dogecoin   DOGE  ...  0.000205  0.000000e+00  1.509085e+06\n",
              "1        2  Dogecoin   DOGE  ...  0.000269  0.000000e+00  2.169688e+06\n",
              "2        3  Dogecoin   DOGE  ...  0.000362  0.000000e+00  3.188943e+06\n",
              "3        4  Dogecoin   DOGE  ...  0.001162  0.000000e+00  1.115034e+07\n",
              "4        5  Dogecoin   DOGE  ...  0.000704  0.000000e+00  7.284337e+06\n",
              "...    ...       ...    ...  ...       ...           ...           ...\n",
              "2755  2756  Dogecoin   DOGE  ...  0.245264  1.321471e+09  3.194925e+10\n",
              "2756  2757  Dogecoin   DOGE  ...  0.246411  9.170158e+08  3.210491e+10\n",
              "2757  2758  Dogecoin   DOGE  ...  0.246483  9.735115e+08  3.211767e+10\n",
              "2758  2759  Dogecoin   DOGE  ...  0.231614  1.267949e+09  3.018344e+10\n",
              "2759  2760  Dogecoin   DOGE  ...  0.234422  1.265920e+09  3.055252e+10\n",
              "\n",
              "[2760 rows x 10 columns]"
            ]
          },
          "metadata": {
            "tags": []
          },
          "execution_count": 2
        }
      ]
    },
    {
      "cell_type": "code",
      "metadata": {
        "colab": {
          "base_uri": "https://localhost:8080/"
        },
        "id": "IpMUPI6uMfV5",
        "outputId": "86909ddb-9e87-4aa9-f55e-a4b849e7e408"
      },
      "source": [
        "data.columns"
      ],
      "execution_count": 3,
      "outputs": [
        {
          "output_type": "execute_result",
          "data": {
            "text/plain": [
              "Index(['SNo', 'Name', 'Symbol', 'Date', 'High', 'Low', 'Open', 'Close',\n",
              "       'Volume', 'Marketcap'],\n",
              "      dtype='object')"
            ]
          },
          "metadata": {
            "tags": []
          },
          "execution_count": 3
        }
      ]
    },
    {
      "cell_type": "code",
      "metadata": {
        "colab": {
          "base_uri": "https://localhost:8080/",
          "height": 202
        },
        "id": "Tv2WVEwGMjjJ",
        "outputId": "2f1fa792-eaf1-49f3-8201-803a6d772a05"
      },
      "source": [
        "data.head()"
      ],
      "execution_count": 4,
      "outputs": [
        {
          "output_type": "execute_result",
          "data": {
            "text/html": [
              "<div>\n",
              "<style scoped>\n",
              "    .dataframe tbody tr th:only-of-type {\n",
              "        vertical-align: middle;\n",
              "    }\n",
              "\n",
              "    .dataframe tbody tr th {\n",
              "        vertical-align: top;\n",
              "    }\n",
              "\n",
              "    .dataframe thead th {\n",
              "        text-align: right;\n",
              "    }\n",
              "</style>\n",
              "<table border=\"1\" class=\"dataframe\">\n",
              "  <thead>\n",
              "    <tr style=\"text-align: right;\">\n",
              "      <th></th>\n",
              "      <th>SNo</th>\n",
              "      <th>Name</th>\n",
              "      <th>Symbol</th>\n",
              "      <th>Date</th>\n",
              "      <th>High</th>\n",
              "      <th>Low</th>\n",
              "      <th>Open</th>\n",
              "      <th>Close</th>\n",
              "      <th>Volume</th>\n",
              "      <th>Marketcap</th>\n",
              "    </tr>\n",
              "  </thead>\n",
              "  <tbody>\n",
              "    <tr>\n",
              "      <th>0</th>\n",
              "      <td>1</td>\n",
              "      <td>Dogecoin</td>\n",
              "      <td>DOGE</td>\n",
              "      <td>2013-12-16 23:59:59</td>\n",
              "      <td>0.000866</td>\n",
              "      <td>0.000150</td>\n",
              "      <td>0.000299</td>\n",
              "      <td>0.000205</td>\n",
              "      <td>0.0</td>\n",
              "      <td>1.509085e+06</td>\n",
              "    </tr>\n",
              "    <tr>\n",
              "      <th>1</th>\n",
              "      <td>2</td>\n",
              "      <td>Dogecoin</td>\n",
              "      <td>DOGE</td>\n",
              "      <td>2013-12-17 23:59:59</td>\n",
              "      <td>0.000289</td>\n",
              "      <td>0.000116</td>\n",
              "      <td>0.000207</td>\n",
              "      <td>0.000269</td>\n",
              "      <td>0.0</td>\n",
              "      <td>2.169688e+06</td>\n",
              "    </tr>\n",
              "    <tr>\n",
              "      <th>2</th>\n",
              "      <td>3</td>\n",
              "      <td>Dogecoin</td>\n",
              "      <td>DOGE</td>\n",
              "      <td>2013-12-18 23:59:59</td>\n",
              "      <td>0.000362</td>\n",
              "      <td>0.000205</td>\n",
              "      <td>0.000267</td>\n",
              "      <td>0.000362</td>\n",
              "      <td>0.0</td>\n",
              "      <td>3.188943e+06</td>\n",
              "    </tr>\n",
              "    <tr>\n",
              "      <th>3</th>\n",
              "      <td>4</td>\n",
              "      <td>Dogecoin</td>\n",
              "      <td>DOGE</td>\n",
              "      <td>2013-12-19 23:59:59</td>\n",
              "      <td>0.001520</td>\n",
              "      <td>0.000328</td>\n",
              "      <td>0.000395</td>\n",
              "      <td>0.001162</td>\n",
              "      <td>0.0</td>\n",
              "      <td>1.115034e+07</td>\n",
              "    </tr>\n",
              "    <tr>\n",
              "      <th>4</th>\n",
              "      <td>5</td>\n",
              "      <td>Dogecoin</td>\n",
              "      <td>DOGE</td>\n",
              "      <td>2013-12-20 23:59:59</td>\n",
              "      <td>0.001143</td>\n",
              "      <td>0.000662</td>\n",
              "      <td>0.001143</td>\n",
              "      <td>0.000704</td>\n",
              "      <td>0.0</td>\n",
              "      <td>7.284337e+06</td>\n",
              "    </tr>\n",
              "  </tbody>\n",
              "</table>\n",
              "</div>"
            ],
            "text/plain": [
              "   SNo      Name Symbol  ...     Close  Volume     Marketcap\n",
              "0    1  Dogecoin   DOGE  ...  0.000205     0.0  1.509085e+06\n",
              "1    2  Dogecoin   DOGE  ...  0.000269     0.0  2.169688e+06\n",
              "2    3  Dogecoin   DOGE  ...  0.000362     0.0  3.188943e+06\n",
              "3    4  Dogecoin   DOGE  ...  0.001162     0.0  1.115034e+07\n",
              "4    5  Dogecoin   DOGE  ...  0.000704     0.0  7.284337e+06\n",
              "\n",
              "[5 rows x 10 columns]"
            ]
          },
          "metadata": {
            "tags": []
          },
          "execution_count": 4
        }
      ]
    },
    {
      "cell_type": "code",
      "metadata": {
        "colab": {
          "base_uri": "https://localhost:8080/",
          "height": 202
        },
        "id": "m6mRMcjEMpFC",
        "outputId": "db26e3ea-2462-460b-81ba-c02e917c4d47"
      },
      "source": [
        "data.tail()"
      ],
      "execution_count": 5,
      "outputs": [
        {
          "output_type": "execute_result",
          "data": {
            "text/html": [
              "<div>\n",
              "<style scoped>\n",
              "    .dataframe tbody tr th:only-of-type {\n",
              "        vertical-align: middle;\n",
              "    }\n",
              "\n",
              "    .dataframe tbody tr th {\n",
              "        vertical-align: top;\n",
              "    }\n",
              "\n",
              "    .dataframe thead th {\n",
              "        text-align: right;\n",
              "    }\n",
              "</style>\n",
              "<table border=\"1\" class=\"dataframe\">\n",
              "  <thead>\n",
              "    <tr style=\"text-align: right;\">\n",
              "      <th></th>\n",
              "      <th>SNo</th>\n",
              "      <th>Name</th>\n",
              "      <th>Symbol</th>\n",
              "      <th>Date</th>\n",
              "      <th>High</th>\n",
              "      <th>Low</th>\n",
              "      <th>Open</th>\n",
              "      <th>Close</th>\n",
              "      <th>Volume</th>\n",
              "      <th>Marketcap</th>\n",
              "    </tr>\n",
              "  </thead>\n",
              "  <tbody>\n",
              "    <tr>\n",
              "      <th>2755</th>\n",
              "      <td>2756</td>\n",
              "      <td>Dogecoin</td>\n",
              "      <td>DOGE</td>\n",
              "      <td>2021-07-02 23:59:59</td>\n",
              "      <td>0.247997</td>\n",
              "      <td>0.238848</td>\n",
              "      <td>0.243982</td>\n",
              "      <td>0.245264</td>\n",
              "      <td>1.321471e+09</td>\n",
              "      <td>3.194925e+10</td>\n",
              "    </tr>\n",
              "    <tr>\n",
              "      <th>2756</th>\n",
              "      <td>2757</td>\n",
              "      <td>Dogecoin</td>\n",
              "      <td>DOGE</td>\n",
              "      <td>2021-07-03 23:59:59</td>\n",
              "      <td>0.250214</td>\n",
              "      <td>0.242454</td>\n",
              "      <td>0.245106</td>\n",
              "      <td>0.246411</td>\n",
              "      <td>9.170158e+08</td>\n",
              "      <td>3.210491e+10</td>\n",
              "    </tr>\n",
              "    <tr>\n",
              "      <th>2757</th>\n",
              "      <td>2758</td>\n",
              "      <td>Dogecoin</td>\n",
              "      <td>DOGE</td>\n",
              "      <td>2021-07-04 23:59:59</td>\n",
              "      <td>0.252567</td>\n",
              "      <td>0.243425</td>\n",
              "      <td>0.246425</td>\n",
              "      <td>0.246483</td>\n",
              "      <td>9.735115e+08</td>\n",
              "      <td>3.211767e+10</td>\n",
              "    </tr>\n",
              "    <tr>\n",
              "      <th>2758</th>\n",
              "      <td>2759</td>\n",
              "      <td>Dogecoin</td>\n",
              "      <td>DOGE</td>\n",
              "      <td>2021-07-05 23:59:59</td>\n",
              "      <td>0.246419</td>\n",
              "      <td>0.227838</td>\n",
              "      <td>0.246419</td>\n",
              "      <td>0.231614</td>\n",
              "      <td>1.267949e+09</td>\n",
              "      <td>3.018344e+10</td>\n",
              "    </tr>\n",
              "    <tr>\n",
              "      <th>2759</th>\n",
              "      <td>2760</td>\n",
              "      <td>Dogecoin</td>\n",
              "      <td>DOGE</td>\n",
              "      <td>2021-07-06 23:59:59</td>\n",
              "      <td>0.241910</td>\n",
              "      <td>0.229842</td>\n",
              "      <td>0.231216</td>\n",
              "      <td>0.234422</td>\n",
              "      <td>1.265920e+09</td>\n",
              "      <td>3.055252e+10</td>\n",
              "    </tr>\n",
              "  </tbody>\n",
              "</table>\n",
              "</div>"
            ],
            "text/plain": [
              "       SNo      Name Symbol  ...     Close        Volume     Marketcap\n",
              "2755  2756  Dogecoin   DOGE  ...  0.245264  1.321471e+09  3.194925e+10\n",
              "2756  2757  Dogecoin   DOGE  ...  0.246411  9.170158e+08  3.210491e+10\n",
              "2757  2758  Dogecoin   DOGE  ...  0.246483  9.735115e+08  3.211767e+10\n",
              "2758  2759  Dogecoin   DOGE  ...  0.231614  1.267949e+09  3.018344e+10\n",
              "2759  2760  Dogecoin   DOGE  ...  0.234422  1.265920e+09  3.055252e+10\n",
              "\n",
              "[5 rows x 10 columns]"
            ]
          },
          "metadata": {
            "tags": []
          },
          "execution_count": 5
        }
      ]
    },
    {
      "cell_type": "code",
      "metadata": {
        "colab": {
          "base_uri": "https://localhost:8080/"
        },
        "id": "xQ6nZAzuMr-w",
        "outputId": "3b05267d-f02d-4824-de23-bca82219b103"
      },
      "source": [
        "data.info()"
      ],
      "execution_count": 6,
      "outputs": [
        {
          "output_type": "stream",
          "text": [
            "<class 'pandas.core.frame.DataFrame'>\n",
            "RangeIndex: 2760 entries, 0 to 2759\n",
            "Data columns (total 10 columns):\n",
            " #   Column     Non-Null Count  Dtype  \n",
            "---  ------     --------------  -----  \n",
            " 0   SNo        2760 non-null   int64  \n",
            " 1   Name       2760 non-null   object \n",
            " 2   Symbol     2760 non-null   object \n",
            " 3   Date       2760 non-null   object \n",
            " 4   High       2760 non-null   float64\n",
            " 5   Low        2760 non-null   float64\n",
            " 6   Open       2760 non-null   float64\n",
            " 7   Close      2760 non-null   float64\n",
            " 8   Volume     2760 non-null   float64\n",
            " 9   Marketcap  2760 non-null   float64\n",
            "dtypes: float64(6), int64(1), object(3)\n",
            "memory usage: 215.8+ KB\n"
          ],
          "name": "stdout"
        }
      ]
    },
    {
      "cell_type": "code",
      "metadata": {
        "colab": {
          "base_uri": "https://localhost:8080/",
          "height": 294
        },
        "id": "mHfNvwk6Mv0u",
        "outputId": "68677ae2-ba52-4149-ec40-7f415efe8642"
      },
      "source": [
        "data.describe()"
      ],
      "execution_count": 7,
      "outputs": [
        {
          "output_type": "execute_result",
          "data": {
            "text/html": [
              "<div>\n",
              "<style scoped>\n",
              "    .dataframe tbody tr th:only-of-type {\n",
              "        vertical-align: middle;\n",
              "    }\n",
              "\n",
              "    .dataframe tbody tr th {\n",
              "        vertical-align: top;\n",
              "    }\n",
              "\n",
              "    .dataframe thead th {\n",
              "        text-align: right;\n",
              "    }\n",
              "</style>\n",
              "<table border=\"1\" class=\"dataframe\">\n",
              "  <thead>\n",
              "    <tr style=\"text-align: right;\">\n",
              "      <th></th>\n",
              "      <th>SNo</th>\n",
              "      <th>High</th>\n",
              "      <th>Low</th>\n",
              "      <th>Open</th>\n",
              "      <th>Close</th>\n",
              "      <th>Volume</th>\n",
              "      <th>Marketcap</th>\n",
              "    </tr>\n",
              "  </thead>\n",
              "  <tbody>\n",
              "    <tr>\n",
              "      <th>count</th>\n",
              "      <td>2760.000000</td>\n",
              "      <td>2760.000000</td>\n",
              "      <td>2760.000000</td>\n",
              "      <td>2760.000000</td>\n",
              "      <td>2760.000000</td>\n",
              "      <td>2.760000e+03</td>\n",
              "      <td>2.760000e+03</td>\n",
              "    </tr>\n",
              "    <tr>\n",
              "      <th>mean</th>\n",
              "      <td>1380.500000</td>\n",
              "      <td>0.014964</td>\n",
              "      <td>0.012402</td>\n",
              "      <td>0.013669</td>\n",
              "      <td>0.013763</td>\n",
              "      <td>4.326321e+08</td>\n",
              "      <td>1.760533e+09</td>\n",
              "    </tr>\n",
              "    <tr>\n",
              "      <th>std</th>\n",
              "      <td>796.887696</td>\n",
              "      <td>0.069103</td>\n",
              "      <td>0.055536</td>\n",
              "      <td>0.062347</td>\n",
              "      <td>0.062559</td>\n",
              "      <td>2.807320e+09</td>\n",
              "      <td>8.115186e+09</td>\n",
              "    </tr>\n",
              "    <tr>\n",
              "      <th>min</th>\n",
              "      <td>1.000000</td>\n",
              "      <td>0.000089</td>\n",
              "      <td>0.000085</td>\n",
              "      <td>0.000087</td>\n",
              "      <td>0.000087</td>\n",
              "      <td>0.000000e+00</td>\n",
              "      <td>1.509085e+06</td>\n",
              "    </tr>\n",
              "    <tr>\n",
              "      <th>25%</th>\n",
              "      <td>690.750000</td>\n",
              "      <td>0.000231</td>\n",
              "      <td>0.000222</td>\n",
              "      <td>0.000227</td>\n",
              "      <td>0.000226</td>\n",
              "      <td>2.536138e+05</td>\n",
              "      <td>2.337892e+07</td>\n",
              "    </tr>\n",
              "    <tr>\n",
              "      <th>50%</th>\n",
              "      <td>1380.500000</td>\n",
              "      <td>0.001914</td>\n",
              "      <td>0.001772</td>\n",
              "      <td>0.001849</td>\n",
              "      <td>0.001844</td>\n",
              "      <td>5.582480e+06</td>\n",
              "      <td>2.135789e+08</td>\n",
              "    </tr>\n",
              "    <tr>\n",
              "      <th>75%</th>\n",
              "      <td>2070.250000</td>\n",
              "      <td>0.002986</td>\n",
              "      <td>0.002796</td>\n",
              "      <td>0.002900</td>\n",
              "      <td>0.002899</td>\n",
              "      <td>5.098244e+07</td>\n",
              "      <td>3.488812e+08</td>\n",
              "    </tr>\n",
              "    <tr>\n",
              "      <th>max</th>\n",
              "      <td>2760.000000</td>\n",
              "      <td>0.737567</td>\n",
              "      <td>0.608168</td>\n",
              "      <td>0.687801</td>\n",
              "      <td>0.684777</td>\n",
              "      <td>6.941068e+10</td>\n",
              "      <td>8.868082e+10</td>\n",
              "    </tr>\n",
              "  </tbody>\n",
              "</table>\n",
              "</div>"
            ],
            "text/plain": [
              "               SNo         High  ...        Volume     Marketcap\n",
              "count  2760.000000  2760.000000  ...  2.760000e+03  2.760000e+03\n",
              "mean   1380.500000     0.014964  ...  4.326321e+08  1.760533e+09\n",
              "std     796.887696     0.069103  ...  2.807320e+09  8.115186e+09\n",
              "min       1.000000     0.000089  ...  0.000000e+00  1.509085e+06\n",
              "25%     690.750000     0.000231  ...  2.536138e+05  2.337892e+07\n",
              "50%    1380.500000     0.001914  ...  5.582480e+06  2.135789e+08\n",
              "75%    2070.250000     0.002986  ...  5.098244e+07  3.488812e+08\n",
              "max    2760.000000     0.737567  ...  6.941068e+10  8.868082e+10\n",
              "\n",
              "[8 rows x 7 columns]"
            ]
          },
          "metadata": {
            "tags": []
          },
          "execution_count": 7
        }
      ]
    },
    {
      "cell_type": "markdown",
      "metadata": {
        "id": "tMIOuTkbM2fl"
      },
      "source": [
        "### **Step 2: Data Visualization**"
      ]
    },
    {
      "cell_type": "code",
      "metadata": {
        "id": "jalBDQ-qMzdq"
      },
      "source": [
        "import matplotlib.pyplot as plt\n",
        "%matplotlib inline"
      ],
      "execution_count": 8,
      "outputs": []
    },
    {
      "cell_type": "code",
      "metadata": {
        "colab": {
          "base_uri": "https://localhost:8080/",
          "height": 646
        },
        "id": "PhEObKr1M_tb",
        "outputId": "c8ec62cc-9850-478d-af69-9743b5c126c7"
      },
      "source": [
        "x=data['Date']\n",
        "y1=data['High']\n",
        "y2=data['Low']\n",
        "plt.figure(figsize=(14,10))\n",
        "plt.plot(x,y1,label='HIGH',color='lightblue')\n",
        "plt.plot(x,y2,label='LOW',color='seagreen')\n",
        "plt.title('HIGH & LOW ',fontsize=18)\n",
        "plt.xlabel('DATE(Trend over time)',fontsize=14)\n",
        "plt.ylabel('Count',fontsize=14)\n",
        "plt.legend()\n",
        "plt.plot()"
      ],
      "execution_count": 9,
      "outputs": [
        {
          "output_type": "execute_result",
          "data": {
            "text/plain": [
              "[]"
            ]
          },
          "metadata": {
            "tags": []
          },
          "execution_count": 9
        },
        {
          "output_type": "display_data",
          "data": {
            "image/png": "[encoded data removed]",
            "text/plain": [
              "<Figure size 1008x720 with 1 Axes>"
            ]
          },
          "metadata": {
            "tags": [],
            "needs_background": "light"
          }
        }
      ]
    },
    {
      "cell_type": "code",
      "metadata": {
        "colab": {
          "base_uri": "https://localhost:8080/",
          "height": 646
        },
        "id": "64znct72NKAB",
        "outputId": "49c06ddd-1b6f-4ce5-e755-b76e358ecb42"
      },
      "source": [
        "x=data['Date']\n",
        "y2=data['Close']\n",
        "plt.figure(figsize=(14,10))\n",
        "plt.plot(x,y2,label='CLOSE',color='salmon')\n",
        "plt.title('CLOSE ',fontsize=18)\n",
        "plt.xlabel('DATE(Trend over time)',fontsize=14)\n",
        "plt.ylabel('Count',fontsize=14)\n",
        "plt.legend()\n",
        "plt.plot()"
      ],
      "execution_count": 10,
      "outputs": [
        {
          "output_type": "execute_result",
          "data": {
            "text/plain": [
              "[]"
            ]
          },
          "metadata": {
            "tags": []
          },
          "execution_count": 10
        },
        {
          "output_type": "display_data",
          "data": {
            "image/png": "[encoded data removed]",
            "text/plain": [
              "<Figure size 1008x720 with 1 Axes>"
            ]
          },
          "metadata": {
            "tags": [],
            "needs_background": "light"
          }
        }
      ]
    },
    {
      "cell_type": "code",
      "metadata": {
        "colab": {
          "base_uri": "https://localhost:8080/",
          "height": 646
        },
        "id": "R8Ywj2feNVur",
        "outputId": "f1a7721e-d169-49ab-9052-a65dfabb8849"
      },
      "source": [
        "x=data['Date']\n",
        "y1=data['Open']\n",
        "plt.figure(figsize=(14,10))\n",
        "plt.plot(x,y1,label='OPEN',color='orange')\n",
        "plt.title('OPEN ',fontsize=18)\n",
        "plt.xlabel('DATE(Trend over time)',fontsize=14)\n",
        "plt.ylabel('Count',fontsize=14)\n",
        "plt.legend()\n",
        "plt.plot()"
      ],
      "execution_count": 11,
      "outputs": [
        {
          "output_type": "execute_result",
          "data": {
            "text/plain": [
              "[]"
            ]
          },
          "metadata": {
            "tags": []
          },
          "execution_count": 11
        },
        {
          "output_type": "display_data",
          "data": {
            "image/png": "[encoded data removed]",
            "text/plain": [
              "<Figure size 1008x720 with 1 Axes>"
            ]
          },
          "metadata": {
            "tags": [],
            "needs_background": "light"
          }
        }
      ]
    },
    {
      "cell_type": "code",
      "metadata": {
        "colab": {
          "base_uri": "https://localhost:8080/",
          "height": 646
        },
        "id": "v3_TVRIoNeGJ",
        "outputId": "6932f972-9f47-478a-ecf1-a82edc30ea7b"
      },
      "source": [
        "x=data['Date']\n",
        "y1=data['Volume']\n",
        "plt.figure(figsize=(14,10))\n",
        "plt.plot(x,y1,label='OPEN',color='orchid')\n",
        "plt.title('VOLUME ',fontsize=18)\n",
        "plt.xlabel('DATE(Trend over time)',fontsize=14)\n",
        "plt.ylabel('Count',fontsize=14)\n",
        "plt.legend()\n",
        "plt.plot()"
      ],
      "execution_count": 12,
      "outputs": [
        {
          "output_type": "execute_result",
          "data": {
            "text/plain": [
              "[]"
            ]
          },
          "metadata": {
            "tags": []
          },
          "execution_count": 12
        },
        {
          "output_type": "display_data",
          "data": {
            "image/png": "[encoded data removed]",
            "text/plain": [
              "<Figure size 1008x720 with 1 Axes>"
            ]
          },
          "metadata": {
            "tags": [],
            "needs_background": "light"
          }
        }
      ]
    },
    {
      "cell_type": "markdown",
      "metadata": {
        "id": "35CQvAqgNoUg"
      },
      "source": [
        "### **Step 3: Data training & Model Creation**"
      ]
    },
    {
      "cell_type": "code",
      "metadata": {
        "id": "c_DRk947Nr-s"
      },
      "source": [
        "# Import train_test_split from sklearn.model_selection\n",
        "from sklearn.model_selection import train_test_split\n",
        "# Here, X is the data which will have feature and y will have our target.\n",
        "x=data[['High', 'Low', 'Open', 'Close','Volume']]  \n",
        "y=data['Marketcap']"
      ],
      "execution_count": 13,
      "outputs": []
    },
    {
      "cell_type": "code",
      "metadata": {
        "id": "jcUwxOEYN14z"
      },
      "source": [
        "# Split data into training data and testing data\n",
        "x_train, x_test, y_train, y_test = train_test_split(x, y, test_size=0.25,random_state=5090) \n",
        "#Ratio used for splitting training and testing data is 8:2 respectively"
      ],
      "execution_count": 14,
      "outputs": []
    },
    {
      "cell_type": "code",
      "metadata": {
        "id": "M1Y50ln8N9LN"
      },
      "source": [
        "#Importing random forest regressor \n",
        "from sklearn.ensemble import RandomForestRegressor \n",
        "reg1 = RandomForestRegressor(n_estimators=100)"
      ],
      "execution_count": 15,
      "outputs": []
    },
    {
      "cell_type": "code",
      "metadata": {
        "colab": {
          "base_uri": "https://localhost:8080/"
        },
        "id": "bLuEPEzxOZVo",
        "outputId": "91505ab5-4987-48ed-e9f6-4d6ac9605328"
      },
      "source": [
        "# Fitting data into the model.\n",
        "reg1.fit(x_train, y_train)"
      ],
      "execution_count": 16,
      "outputs": [
        {
          "output_type": "execute_result",
          "data": {
            "text/plain": [
              "RandomForestRegressor(bootstrap=True, ccp_alpha=0.0, criterion='mse',\n",
              "                      max_depth=None, max_features='auto', max_leaf_nodes=None,\n",
              "                      max_samples=None, min_impurity_decrease=0.0,\n",
              "                      min_impurity_split=None, min_samples_leaf=1,\n",
              "                      min_samples_split=2, min_weight_fraction_leaf=0.0,\n",
              "                      n_estimators=100, n_jobs=None, oob_score=False,\n",
              "                      random_state=None, verbose=0, warm_start=False)"
            ]
          },
          "metadata": {
            "tags": []
          },
          "execution_count": 16
        }
      ]
    },
    {
      "cell_type": "code",
      "metadata": {
        "id": "jBL5zd97Oeuz"
      },
      "source": [
        "#making predictions.\n",
        "pred1 = reg1.predict(x_test)"
      ],
      "execution_count": 17,
      "outputs": []
    },
    {
      "cell_type": "code",
      "metadata": {
        "colab": {
          "base_uri": "https://localhost:8080/"
        },
        "id": "F7CBMNbxOiED",
        "outputId": "bc62baea-90a9-45f6-d781-d3b3f1440bd1"
      },
      "source": [
        "pred1"
      ],
      "execution_count": 18,
      "outputs": [
        {
          "output_type": "execute_result",
          "data": {
            "text/plain": [
              "array([1.85802887e+07, 2.63476059e+08, 1.29963254e+07, 1.18494039e+07,\n",
              "       2.34040472e+07, 4.32963694e+07, 2.21944668e+07, 1.58449742e+07,\n",
              "       7.08759825e+08, 4.39652979e+08, 2.04306262e+07, 2.47846514e+07,\n",
              "       1.44112183e+07, 2.43027322e+07, 1.61822825e+07, 2.41995054e+07,\n",
              "       2.11770442e+07, 1.61577829e+07, 2.48764886e+07, 2.81932402e+08,\n",
              "       1.21944787e+07, 3.67109120e+08, 1.16357046e+07, 2.97392210e+08,\n",
              "       1.40008919e+07, 2.57480844e+07, 9.58115746e+08, 4.03119929e+08,\n",
              "       7.43893811e+07, 2.25152706e+07, 1.56261406e+07, 1.12547625e+07,\n",
              "       1.35855981e+07, 4.30604825e+08, 2.27921996e+07, 4.00376374e+08,\n",
              "       2.50943616e+07, 1.77791026e+07, 7.17320050e+09, 3.55738680e+10,\n",
              "       1.99535629e+07, 1.19642128e+08, 4.13110396e+08, 2.42264456e+07,\n",
              "       4.94470540e+10, 1.38144967e+07, 1.13211704e+07, 9.98397417e+08,\n",
              "       2.25994704e+07, 4.46925066e+07, 2.32206953e+07, 5.04203940e+08,\n",
              "       2.92566403e+08, 1.39303104e+07, 2.89478867e+08, 1.20284680e+07,\n",
              "       1.95575565e+07, 3.40082007e+08, 2.69147056e+08, 4.41589341e+08,\n",
              "       4.68773396e+07, 3.33334938e+08, 3.02578031e+08, 1.04897912e+09,\n",
              "       7.20453361e+09, 4.36654242e+10, 5.77984439e+08, 1.61843321e+07,\n",
              "       1.25778149e+07, 2.41810907e+07, 4.28762459e+08, 3.07883827e+07,\n",
              "       3.29590394e+10, 1.29210280e+07, 2.65827318e+07, 4.51400035e+08,\n",
              "       2.22795497e+07, 2.20639115e+07, 2.98415015e+08, 3.46594991e+08,\n",
              "       1.83798590e+07, 3.02361863e+08, 2.27767158e+08, 4.42045925e+08,\n",
              "       4.84904081e+08, 3.38048637e+08, 2.33907744e+07, 1.27208344e+07,\n",
              "       2.36465044e+08, 1.85188393e+07, 3.71024866e+08, 2.38409421e+07,\n",
              "       1.43839452e+07, 5.67366155e+10, 3.28118991e+08, 2.96668207e+08,\n",
              "       4.04178748e+08, 4.23606845e+08, 2.39636924e+07, 3.24122390e+08,\n",
              "       3.00215070e+08, 2.28379264e+08, 3.16480345e+08, 1.27766848e+08,\n",
              "       3.57424250e+08, 1.95469810e+08, 3.25883646e+08, 1.33970790e+09,\n",
              "       2.12201717e+07, 1.05636872e+09, 1.87198035e+08, 3.26750204e+10,\n",
              "       2.37939311e+08, 1.39572206e+07, 1.59986327e+08, 3.09594316e+08,\n",
              "       2.13673576e+07, 3.10970471e+08, 3.45917637e+08, 2.14669445e+07,\n",
              "       4.00925948e+07, 1.14413305e+08, 1.24168724e+09, 3.12829570e+07,\n",
              "       2.36136518e+07, 2.79248266e+08, 2.19319721e+07, 4.05719718e+08,\n",
              "       3.24882113e+08, 1.29918939e+07, 3.45328395e+07, 7.18788670e+10,\n",
              "       3.96702048e+08, 3.37465304e+08, 3.31539779e+08, 6.89727616e+07,\n",
              "       3.80063261e+08, 1.24681461e+07, 2.24187601e+08, 3.48235335e+08,\n",
              "       2.45138532e+07, 4.10369817e+08, 2.35868460e+07, 2.34560882e+07,\n",
              "       3.96862447e+10, 2.61680149e+08, 2.36256064e+07, 6.52088758e+09,\n",
              "       1.47883637e+07, 2.43742633e+07, 2.56657943e+10, 1.34326609e+07,\n",
              "       1.41684082e+07, 2.95067907e+08, 4.24227026e+08, 3.41966353e+08,\n",
              "       2.46827746e+08, 3.47557445e+08, 1.93736649e+07, 1.12364114e+07,\n",
              "       6.43613034e+08, 1.78290283e+07, 7.16231535e+09, 5.24928139e+08,\n",
              "       2.98498382e+08, 1.20518172e+07, 1.28440662e+07, 1.40242795e+07,\n",
              "       1.50543830e+07, 3.54199332e+10, 2.02896789e+07, 2.33176380e+07,\n",
              "       2.46048573e+07, 4.13876481e+08, 2.52223596e+08, 3.98969693e+08,\n",
              "       7.26308161e+09, 3.47059563e+10, 4.38243089e+08, 2.88104166e+07,\n",
              "       2.37100252e+07, 7.49953956e+07, 2.46490035e+08, 6.45490954e+09,\n",
              "       3.48937512e+08, 3.28583277e+08, 5.03172493e+08, 1.13391878e+09,\n",
              "       6.90287095e+09, 2.31376906e+07, 4.07089660e+08, 7.47674411e+07,\n",
              "       2.46496291e+07, 2.25700034e+07, 1.54836591e+07, 2.38093395e+07,\n",
              "       4.61541099e+08, 3.26135393e+08, 1.24451765e+08, 1.28584198e+08,\n",
              "       4.39621079e+07, 1.24641658e+07, 2.62694476e+08, 3.65176461e+08,\n",
              "       6.18820634e+07, 3.72159167e+08, 2.06853743e+08, 3.17880030e+08,\n",
              "       3.02486505e+08, 2.86563918e+07, 4.32742379e+08, 3.08939394e+08,\n",
              "       1.97640606e+07, 2.41423423e+08, 8.70104197e+08, 3.18972963e+08,\n",
              "       2.09345453e+07, 2.72780805e+07, 3.44697132e+08, 1.32609892e+07,\n",
              "       3.19343009e+08, 8.04206167e+08, 2.41196884e+07, 2.62564763e+08,\n",
              "       3.74039021e+08, 3.91935171e+08, 2.21563458e+07, 1.29015587e+07,\n",
              "       1.22701267e+07, 1.92825804e+08, 4.18815380e+07, 8.05023491e+08,\n",
              "       3.16882249e+08, 3.13246336e+07, 1.58887955e+07, 3.92529626e+08,\n",
              "       9.20075145e+07, 1.80646510e+07, 2.78893678e+08, 2.43492587e+07,\n",
              "       9.81245401e+06, 2.45190671e+08, 7.13532071e+08, 1.37446171e+07,\n",
              "       1.22418695e+07, 3.17100836e+08, 7.95842164e+10, 2.10595140e+07,\n",
              "       3.71458089e+08, 1.05802163e+07, 2.52627232e+07, 4.04037103e+07,\n",
              "       1.32483747e+07, 2.92198538e+08, 3.13967213e+08, 1.31804731e+07,\n",
              "       6.41370472e+10, 2.29628399e+07, 2.35566511e+07, 3.86080165e+08,\n",
              "       3.13013316e+07, 2.34553321e+07, 4.38310247e+08, 2.56584912e+07,\n",
              "       4.02556727e+08, 3.74541833e+08, 2.55151915e+07, 6.61083384e+09,\n",
              "       3.01886833e+08, 2.75910982e+07, 4.27884716e+08, 2.69193225e+08,\n",
              "       3.00651718e+08, 8.05460838e+08, 9.21163786e+07, 4.32169959e+10,\n",
              "       3.35377634e+10, 3.23954939e+08, 3.78291241e+08, 2.21341203e+07,\n",
              "       1.04151561e+09, 3.09277409e+08, 4.31943856e+07, 1.49022202e+09,\n",
              "       7.89181840e+07, 4.26802626e+07, 2.28401985e+08, 2.31758629e+07,\n",
              "       3.46387240e+07, 1.38635639e+07, 2.31897022e+07, 2.74247161e+07,\n",
              "       1.04854887e+07, 1.55007901e+07, 3.30526177e+07, 2.39195642e+07,\n",
              "       9.41275479e+09, 1.05043652e+09, 3.71441910e+08, 3.56702791e+08,\n",
              "       2.74374986e+07, 3.28619992e+08, 3.54703927e+07, 2.95988098e+07,\n",
              "       2.07013319e+07, 1.05359018e+07, 2.44317491e+07, 5.78144513e+08,\n",
              "       2.23680314e+08, 1.09915452e+09, 1.81156903e+08, 1.30050604e+07,\n",
              "       1.00934307e+08, 2.54382411e+08, 2.50169373e+07, 2.32530170e+07,\n",
              "       1.21516728e+07, 2.27099133e+07, 2.27750328e+08, 2.61950333e+07,\n",
              "       3.30379713e+08, 5.97398060e+08, 1.23651245e+07, 3.42984494e+08,\n",
              "       1.45011147e+08, 5.08258069e+08, 4.26334416e+08, 2.36439469e+07,\n",
              "       3.31764760e+08, 2.34589498e+07, 3.56392458e+07, 2.28727272e+07,\n",
              "       3.01206387e+08, 1.68329223e+07, 2.24223034e+07, 4.24948428e+08,\n",
              "       2.50921211e+08, 1.43223153e+07, 5.81200699e+08, 5.20725818e+10,\n",
              "       2.98367612e+08, 4.12090595e+08, 2.37094809e+07, 8.01863345e+09,\n",
              "       3.11559955e+08, 2.86692417e+07, 7.19385149e+08, 1.90898238e+07,\n",
              "       3.90342491e+08, 3.42904071e+08, 2.23227614e+07, 2.54740287e+08,\n",
              "       3.62397313e+07, 2.25398957e+07, 1.32396744e+07, 2.37104348e+07,\n",
              "       2.42035229e+07, 6.90597371e+09, 1.21025668e+07, 1.63975567e+08,\n",
              "       2.13549181e+08, 3.95519222e+07, 2.41106100e+07, 2.38837155e+07,\n",
              "       1.84482063e+08, 2.51493439e+08, 2.95355586e+08, 1.22846612e+07,\n",
              "       2.25236303e+08, 1.37291448e+07, 2.15466732e+07, 3.40106063e+08,\n",
              "       3.02811200e+08, 8.05152736e+09, 6.62388819e+08, 4.13213881e+08,\n",
              "       2.75308896e+08, 1.54348235e+07, 1.80443047e+07, 5.36383083e+10,\n",
              "       2.41128440e+07, 2.37731248e+07, 2.21483201e+07, 2.39867357e+08,\n",
              "       2.42911256e+07, 1.96388995e+07, 2.68006147e+08, 5.92298157e+08,\n",
              "       4.47374035e+08, 1.49175959e+07, 2.85583659e+08, 4.88443815e+10,\n",
              "       2.89087304e+07, 2.38986745e+07, 9.31485844e+07, 3.02044083e+08,\n",
              "       3.91567378e+08, 3.79092405e+07, 2.98658268e+08, 3.20691111e+08,\n",
              "       3.33014016e+08, 2.08133713e+07, 2.52463687e+08, 3.20631561e+08,\n",
              "       9.02016024e+09, 3.92607743e+08, 4.22621383e+08, 2.50037205e+07,\n",
              "       1.82252081e+07, 3.11754316e+08, 1.78537454e+07, 4.24343729e+08,\n",
              "       2.43028390e+07, 2.20951751e+07, 1.82685675e+07, 6.43112542e+10,\n",
              "       1.23742736e+09, 2.65116561e+08, 2.46513060e+07, 2.43042233e+07,\n",
              "       2.74247320e+07, 1.13951064e+09, 6.93291590e+09, 2.27665659e+07,\n",
              "       2.31413805e+07, 6.94218594e+08, 3.25509824e+08, 1.02960094e+07,\n",
              "       1.05523091e+08, 3.21712278e+08, 1.85979382e+07, 4.08858258e+08,\n",
              "       1.73666793e+07, 7.55876507e+08, 2.30986473e+07, 4.15773133e+08,\n",
              "       4.20021938e+08, 2.92935858e+08, 2.09055538e+07, 6.01530926e+08,\n",
              "       2.65157636e+08, 3.30504179e+08, 1.40792105e+07, 4.97872787e+08,\n",
              "       1.57522159e+07, 3.31225569e+08, 3.30909292e+08, 1.29220466e+07,\n",
              "       2.21292139e+07, 2.32232153e+07, 3.35882681e+08, 6.91150512e+09,\n",
              "       2.03069148e+07, 2.38586053e+07, 2.46612054e+08, 3.92507253e+08,\n",
              "       3.42344788e+08, 3.36024108e+08, 2.87800027e+08, 2.38209594e+07,\n",
              "       3.50782782e+08, 2.64232673e+07, 2.82982496e+08, 2.38372799e+07,\n",
              "       3.60325977e+07, 1.53291652e+07, 3.79152950e+08, 2.77675409e+08,\n",
              "       1.21629631e+07, 2.44874997e+07, 2.83440788e+08, 2.36061817e+08,\n",
              "       1.05051823e+09, 2.97261519e+07, 3.16443501e+07, 1.20524959e+08,\n",
              "       3.31229919e+08, 1.40031937e+07, 2.78687459e+08, 2.34655486e+07,\n",
              "       2.52780815e+08, 1.24271276e+07, 3.41830239e+07, 2.53190971e+08,\n",
              "       2.78608799e+07, 2.09162053e+07, 2.66001533e+08, 3.80980186e+08,\n",
              "       3.53854324e+08, 2.75000637e+07, 3.04288694e+08, 2.30904020e+07,\n",
              "       2.22324620e+08, 3.06538087e+08, 3.65030659e+07, 1.42045217e+07,\n",
              "       1.26582508e+07, 2.49430345e+08, 2.52591354e+08, 4.61298227e+09,\n",
              "       2.46498157e+07, 2.07446573e+08, 1.62193101e+07, 3.98699897e+08,\n",
              "       2.20658499e+07, 1.89344388e+08, 1.68210408e+07, 3.06606341e+08,\n",
              "       3.05694468e+08, 1.87385522e+07, 2.47537371e+07, 1.29354424e+07,\n",
              "       1.31498050e+07, 1.26080494e+07, 3.07909289e+08, 3.53310333e+08,\n",
              "       2.40658934e+07, 3.12682767e+10, 2.93361779e+08, 1.05079650e+08,\n",
              "       1.86775683e+07, 2.22854932e+08, 2.43399021e+08, 2.41674140e+07,\n",
              "       5.71071870e+08, 2.41312161e+07, 1.77727322e+07, 2.90545475e+08,\n",
              "       2.39858875e+07, 1.89157848e+07, 3.17779624e+08, 3.45975661e+08,\n",
              "       1.36749704e+07, 3.23934093e+07, 4.45720337e+08, 4.12670134e+07,\n",
              "       3.46496569e+08, 2.35506421e+07, 7.54635697e+09, 2.30882957e+07,\n",
              "       1.91261712e+07, 1.42179994e+07, 2.46508756e+08, 3.31367084e+08,\n",
              "       2.44397220e+07, 2.89908356e+08, 3.19050397e+08, 2.43535737e+07,\n",
              "       2.10614969e+07, 4.54831044e+07, 1.51327345e+08, 2.68312678e+08,\n",
              "       4.24567495e+08, 2.01505926e+08, 3.14488663e+08, 2.04094816e+08,\n",
              "       2.36008694e+08, 4.36018161e+07, 2.30405662e+07, 2.23873873e+08,\n",
              "       2.41663808e+08, 3.89112389e+08, 2.34965440e+08, 2.25241165e+07,\n",
              "       3.03955451e+08, 1.58143409e+07, 1.14091524e+07, 4.34454636e+08,\n",
              "       3.63152533e+08, 2.38989604e+07, 7.51622703e+08, 2.28172048e+08,\n",
              "       2.99083610e+08, 2.42237855e+07, 2.41477706e+07, 1.06541627e+08,\n",
              "       1.13006111e+08, 3.31832583e+08, 1.91509151e+08, 2.44392865e+07,\n",
              "       3.07253318e+10, 1.38597331e+07, 1.60684847e+07, 1.39491657e+07,\n",
              "       5.84874861e+08, 2.47003872e+07, 1.42367841e+07, 3.62921408e+08,\n",
              "       1.13928974e+08, 1.38378133e+07, 2.95684312e+07, 1.74616668e+07,\n",
              "       8.59248618e+07, 1.09907084e+08, 2.35389432e+07, 3.06779363e+08,\n",
              "       7.26184524e+08, 3.48513486e+07, 1.29245904e+07, 7.30104342e+07,\n",
              "       2.03465913e+07, 6.57515861e+09, 2.35288460e+08, 3.42344186e+08,\n",
              "       1.25898223e+08, 1.41909588e+07, 7.40201503e+09, 2.94697913e+09,\n",
              "       2.38906367e+07, 5.22740192e+08, 2.93734370e+08, 2.55758556e+07,\n",
              "       2.49355577e+07, 3.40431994e+08, 3.13143887e+08, 2.25184225e+07,\n",
              "       1.22499729e+07, 2.49165583e+07, 2.93428508e+08, 1.52121228e+07,\n",
              "       3.27632542e+08, 7.26983498e+08, 5.69712801e+08, 7.44125897e+09,\n",
              "       3.83142722e+07, 1.13119606e+09, 1.25078923e+07, 3.68775066e+10,\n",
              "       2.31662349e+07, 6.49402118e+08, 1.60199466e+07, 4.12341921e+10,\n",
              "       2.84568905e+07, 5.69673019e+10, 2.41759222e+07, 1.13683529e+08,\n",
              "       2.35205031e+07, 3.45377133e+08, 7.66237199e+09, 1.15766421e+07,\n",
              "       1.25668540e+07, 6.64745738e+07, 3.03234340e+08, 3.72802882e+08,\n",
              "       1.15257617e+08, 6.07177961e+08, 2.06118031e+08, 3.46435481e+07,\n",
              "       3.12181879e+08, 9.92885419e+06, 2.39175225e+07, 1.84861523e+07,\n",
              "       9.55307951e+09, 9.52019707e+07, 3.61097074e+07, 2.40841997e+07,\n",
              "       1.54371296e+07, 1.08224177e+09, 1.15293236e+09, 3.71616639e+07,\n",
              "       4.17005663e+08, 2.27443061e+08, 6.44551607e+08, 6.06799635e+08,\n",
              "       2.15044724e+07, 4.04891486e+08, 3.87112487e+10, 1.37356115e+07,\n",
              "       1.23782245e+07, 3.24580226e+08, 1.56707555e+08, 2.49364866e+08,\n",
              "       2.31269872e+07, 1.74186854e+07, 2.78956220e+08, 2.89275133e+07,\n",
              "       1.35794132e+07, 1.24259567e+09, 4.20495402e+08, 1.85566871e+07,\n",
              "       4.20743652e+07, 3.65034227e+07, 3.04450805e+08, 2.23097930e+07,\n",
              "       1.25176771e+08, 3.34263252e+08, 1.27770703e+08, 3.59827824e+07,\n",
              "       4.10606021e+08, 2.82863594e+07])"
            ]
          },
          "metadata": {
            "tags": []
          },
          "execution_count": 18
        }
      ]
    },
    {
      "cell_type": "markdown",
      "metadata": {
        "id": "fwCWqDciOpbn"
      },
      "source": [
        "### Step 4: Performance Evaluation"
      ]
    },
    {
      "cell_type": "code",
      "metadata": {
        "colab": {
          "base_uri": "https://localhost:8080/"
        },
        "id": "ed8EGkrGOn5w",
        "outputId": "4f642b64-bce0-4817-c023-85aecee1303e"
      },
      "source": [
        "import numpy as np\n",
        "from sklearn.metrics import mean_squared_error\n",
        "print(\"Model\\t\\t\\t          RootMeanSquareError  \\t\\t    Accuracy of the model\") \n",
        "print(\"\"\"Random Forest Regressor \\t\\t {:.4f} \\t \\t\\t {:.4f}\"\"\".format(  np.sqrt(mean_squared_error(y_test, pred1)), reg1.score(x_train,y_train)))"
      ],
      "execution_count": 19,
      "outputs": [
        {
          "output_type": "stream",
          "text": [
            "Model\t\t\t          RootMeanSquareError  \t\t    Accuracy of the model\n",
            "Random Forest Regressor \t\t 682307164.5895 \t \t\t 0.9996\n"
          ],
          "name": "stdout"
        }
      ]
    },
    {
      "cell_type": "markdown",
      "metadata": {
        "id": "08IFEpUuO2X9"
      },
      "source": [
        "Conclusion drawn:\n",
        "\n",
        "Accuracy of our random forest regressor model is 99.96 %."
      ]
    }
  ]
}